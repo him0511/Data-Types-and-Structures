{
  "nbformat": 4,
  "nbformat_minor": 0,
  "metadata": {
    "colab": {
      "provenance": []
    },
    "kernelspec": {
      "name": "python3",
      "display_name": "Python 3"
    },
    "language_info": {
      "name": "python"
    }
  },
  "cells": [
    {
      "cell_type": "markdown",
      "source": [
        "#Data Types and Structures"
      ],
      "metadata": {
        "id": "PxBeKm8eXAKt"
      }
    },
    {
      "cell_type": "markdown",
      "source": [
        "1. What are data structures, and why are they important?\n",
        "- Data structures are ways of organizing, storing, and managing data in a computer so that it can be accessed and manipulated efficiently. They define the relationship between the data elements and the operations that can be performed on them. Data structures are crucial for managing large amounts of data and are used in various computing tasks like searching, sorting, and optimizing algorithms.\n",
        "\n",
        "There are two main categories of data structures:\n",
        "\n",
        "1. **Primitive Data Structures**: These are basic types of data, such as:\n",
        "   - **Integers**\n",
        "   - **Characters**\n",
        "   - **Floats**\n",
        "   - **Booleans**\n",
        "\n",
        "2. **Non-Primitive Data Structures**: These are more complex structures that store collections of data:\n",
        "   - **Arrays**\n",
        "   - **Linked lists**\n",
        "   - **Stacks**\n",
        "   - **Queues**\n",
        "   - **Trees**\n",
        "   - **Graphs**\n",
        "   - **Hash tables**\n",
        "\n",
        "### Why Are Data Structures Important?\n",
        "\n",
        "Data structures are essential for several reasons:\n",
        "\n",
        "1. **Efficiency**: Proper data structures help optimize time and space complexity. For example, using a hash table can speed up search operations compared to a simple array search.\n",
        "   \n",
        "2. **Organization**: They help in organizing data logically, which makes data easier to access, update, and delete. For instance, in a graph, nodes can represent cities, and edges represent the roads connecting them, making it easy to traverse and manipulate the data.\n",
        "\n",
        "3. **Ease of Implementation**: They make implementing algorithms more efficient. The right data structure can significantly simplify complex algorithms like sorting, searching, or graph traversal.\n",
        "\n",
        "4. **Scalability**: As the size of the data grows, using appropriate data structures ensures that the system can handle the increase without a significant drop in performance.\n",
        "\n",
        "5. **Memory Management**: Some data structures, like linked lists, allow dynamic memory allocation, making it easier to allocate memory as needed, avoiding wasted space or running out of memory.\n",
        "\n",
        "6. **Problem Solving**: Data structures enable developers to solve a wide variety of computational problems. For example, a stack is ideal for undo operations in a text editor, and a tree structure can represent hierarchical data such as file systems.\n",
        "\n",
        "### Examples of Data Structures in Action:\n",
        "\n",
        "- **Arrays** are useful when you need to store a list of elements that can be accessed via an index, like a list of student scores.\n",
        "- **Linked lists** are preferred when you need to frequently insert or delete elements, such as maintaining a to-do list.\n",
        "- **Stacks** are used in algorithms like Depth-First Search (DFS) or for managing function calls in recursive programs.\n",
        "- **Queues** are essential for scheduling tasks in systems like printers or task managers.\n",
        "- **Trees** (e.g., binary trees) are perfect for representing hierarchical data, like family trees or organizational structures.\n",
        "- **Graphs** are used for networks (e.g., social networks, transportation systems) where nodes represent entities and edges represent relationships.\n",
        "\n",
        "In summary, data structures are fundamental building blocks in computing that help developers manage and manipulate data efficiently."
      ],
      "metadata": {
        "id": "UsG3qdcEX4CD"
      }
    },
    {
      "cell_type": "markdown",
      "source": [
        "2.   Explain the difference between mutable and immutable data types with examples.\n",
        "- ### Difference Between Mutable and Immutable Data Types\n",
        "\n",
        "In programming, **mutable** and **immutable** data types refer to whether the contents of an object can be changed after it is created.\n",
        "\n",
        "1. **Mutable Data Types**\n",
        "   - **Definition**: A mutable data type allows its data to be modified after the object has been created.\n",
        "   - **Key Characteristics**: You can change the values stored in a mutable object without creating a new one.\n",
        "   - **Examples**: Lists, dictionaries, sets (in Python).\n",
        "   \n",
        "   **Example of a mutable data type (Python List)**:\n",
        "   ```python\n",
        "   # Mutable example: List\n",
        "   my_list = [1, 2, 3]\n",
        "   print(\"Original list:\", my_list)\n",
        "   \n",
        "   # Modify the list\n",
        "   my_list[0] = 100\n",
        "   print(\"Modified list:\", my_list)\n",
        "   ```\n",
        "   **Output**:\n",
        "   ```\n",
        "   Original list: [1, 2, 3]\n",
        "   Modified list: [100, 2, 3]\n",
        "   ```\n",
        "   Here, the list `my_list` was modified by changing its first element from `1` to `100` without creating a new list.\n",
        "\n",
        "2. **Immutable Data Types**\n",
        "   - **Definition**: An immutable data type does not allow changes to the data after the object is created. Any attempt to modify the object will result in a new object being created instead.\n",
        "   - **Key Characteristics**: Once an immutable object is created, it cannot be altered. Any \"change\" results in a new object.\n",
        "   - **Examples**: Tuples, strings, integers, floats (in Python).\n",
        "\n",
        "   **Example of an immutable data type (Python String)**:\n",
        "   ```python\n",
        "   # Immutable example: String\n",
        "   my_string = \"Hello\"\n",
        "   print(\"Original string:\", my_string)\n",
        "   \n",
        "   # Attempt to modify the string (this will cause an error)\n",
        "   # my_string[0] = \"J\"  # This will raise an error in Python\n",
        "   \n",
        "   # Correct way to \"modify\" an immutable object\n",
        "   new_string = \"J\" + my_string[1:]\n",
        "   print(\"Modified string:\", new_string)\n",
        "   ```\n",
        "   **Output**:\n",
        "   ```\n",
        "   Original string: Hello\n",
        "   Modified string: Jello\n",
        "   ```\n",
        "   In this case, strings are immutable, so we can't modify the original string directly. Instead, we create a new string `new_string` to reflect the change.\n",
        "\n",
        "### Key Differences:\n",
        "\n",
        "| Feature                | Mutable Data Types                          | Immutable Data Types                          |\n",
        "|------------------------|----------------------------------------------|-----------------------------------------------|\n",
        "| **Definition**          | Can be changed after creation.               | Cannot be changed after creation.             |\n",
        "| **Modification**        | Data can be modified in place.               | Any modification creates a new object.        |\n",
        "| **Memory Efficiency**   | More memory efficient (can reuse existing objects). | Can be less efficient (each modification creates a new object). |\n",
        "| **Examples**            | Lists, Dictionaries, Sets (in Python)        | Integers, Strings, Tuples, Floats (in Python) |\n",
        "| **Performance**         | Often faster when you need to modify data in place. | Slower when frequent modifications are needed, as new objects must be created. |\n",
        "\n",
        "### Why Does the Difference Matter?\n",
        "\n",
        "1. **Performance**: Mutable data types can be more efficient when frequent modifications to the data are needed. For example, lists allow direct updates to individual elements, which is faster than creating a new list each time.\n",
        "   \n",
        "2. **Security and Safety**: Immutable objects are often used to prevent accidental or intentional changes, which makes them useful in cases where you want to ensure that data remains constant. For instance, strings in Python are immutable, so they are safe to share between different parts of a program without worrying that one part might alter the string unexpectedly.\n",
        "\n",
        "3. **Hashing and Keys**: Immutable types are often used as keys in data structures like dictionaries or sets. This is because their hash value does not change, which is required for the correct functioning of hash-based structures. Mutable types cannot be used as dictionary keys in Python because their hash value could change if the object is modified.\n",
        "\n",
        "### Conclusion:\n",
        "\n",
        "- **Mutable** data types allow modification of their contents, whereas **immutable** data types do not.\n",
        "- Each type has its use cases depending on whether you need the ability to modify the data in place or ensure that data remains constant and unchangeable.\n"
      ],
      "metadata": {
        "id": "EyccoUVcYU72"
      }
    },
    {
      "cell_type": "markdown",
      "source": [
        "3. What are the main differences between lists and tuples in Python?\n",
        "- ### Main Differences Between Lists and Tuples in Python\n",
        "\n",
        "In Python, both **lists** and **tuples** are used to store collections of items. However, they have several key differences in terms of mutability, performance, and intended use.\n",
        "\n",
        "Here are the main differences:\n",
        "\n",
        "---\n",
        "\n",
        "### 1. **Mutability**\n",
        "   - **List**: **Mutable** (can be modified after creation). You can change, add, or remove elements in a list.\n",
        "   - **Tuple**: **Immutable** (cannot be modified after creation). Once a tuple is created, its elements cannot be changed, added, or removed.\n",
        "\n",
        "   **Example:**\n",
        "   ```python\n",
        "   # List (mutable)\n",
        "   my_list = [1, 2, 3]\n",
        "   my_list[0] = 100  # Modifying a list\n",
        "   print(my_list)  # Output: [100, 2, 3]\n",
        "\n",
        "   # Tuple (immutable)\n",
        "   my_tuple = (1, 2, 3)\n",
        "   # my_tuple[0] = 100  # This will raise a TypeError\n",
        "   ```\n",
        "\n",
        "---\n",
        "\n",
        "### 2. **Syntax**\n",
        "   - **List**: Defined using square brackets `[]`.\n",
        "   - **Tuple**: Defined using parentheses `()`.\n",
        "\n",
        "   **Example:**\n",
        "   ```python\n",
        "   # List\n",
        "   my_list = [1, 2, 3]\n",
        "\n",
        "   # Tuple\n",
        "   my_tuple = (1, 2, 3)\n",
        "   ```\n",
        "\n",
        "---\n",
        "\n",
        "### 3. **Performance**\n",
        "   - **List**: Generally slower than tuples because they are mutable, which requires extra memory management and overhead.\n",
        "   - **Tuple**: Faster than lists for iteration and accessing elements because they are immutable, and their data is stored in a more compact way.\n",
        "\n",
        "   **Example** (performance difference):\n",
        "   ```python\n",
        "   import time\n",
        "\n",
        "   # List test\n",
        "   start_time = time.time()\n",
        "   my_list = [i for i in range(1000000)]\n",
        "   end_time = time.time()\n",
        "   print(f\"List creation time: {end_time - start_time:.6f} seconds\")\n",
        "\n",
        "   # Tuple test\n",
        "   start_time = time.time()\n",
        "   my_tuple = tuple(i for i in range(1000000))\n",
        "   end_time = time.time()\n",
        "   print(f\"Tuple creation time: {end_time - start_time:.6f} seconds\")\n",
        "   ```\n",
        "\n",
        "   You'll find that the tuple creation is typically faster than the list.\n",
        "\n",
        "---\n",
        "\n",
        "### 4. **Use Cases**\n",
        "   - **List**: Used when you need a collection that can be modified (i.e., adding, removing, or changing elements). Lists are great for dynamic data storage.\n",
        "   - **Tuple**: Used when you need a collection that should not be modified, ensuring data integrity. Tuples are often used for fixed data, like coordinates (x, y, z) or return values from functions where immutability is required.\n",
        "\n",
        "---\n",
        "\n",
        "### 5. **Methods**\n",
        "   - **List**: Lists have more built-in methods available for modification. For example, methods like `append()`, `extend()`, `remove()`, `pop()`, `sort()`, etc., are available for lists.\n",
        "   - **Tuple**: Tuples have fewer built-in methods because they are immutable. The only methods available are `count()` and `index()`.\n",
        "\n",
        "   **Example:**\n",
        "   ```python\n",
        "   # List methods\n",
        "   my_list = [1, 2, 3]\n",
        "   my_list.append(4)  # Adding an element\n",
        "   my_list.remove(2)  # Removing an element\n",
        "   print(my_list)  # Output: [1, 3, 4]\n",
        "\n",
        "   # Tuple methods\n",
        "   my_tuple = (1, 2, 3)\n",
        "   print(my_tuple.count(2))  # Output: 1\n",
        "   print(my_tuple.index(3))  # Output: 2\n",
        "   ```\n",
        "\n",
        "---\n",
        "\n",
        "### 6. **Memory Consumption**\n",
        "   - **List**: Lists use more memory because of their dynamic nature (they allow modifications).\n",
        "   - **Tuple**: Tuples use less memory because they are immutable and their data is stored in a more optimized, fixed-size structure.\n",
        "\n",
        "   **Example:**\n",
        "   ```python\n",
        "   import sys\n",
        "   my_list = [1, 2, 3]\n",
        "   my_tuple = (1, 2, 3)\n",
        "   \n",
        "   print(f\"List memory size: {sys.getsizeof(my_list)} bytes\")\n",
        "   print(f\"Tuple memory size: {sys.getsizeof(my_tuple)} bytes\")\n",
        "   ```\n",
        "\n",
        "---\n",
        "\n",
        "### 7. **Immutability and Safety**\n",
        "   - **List**: Since lists are mutable, they are less safe when you want to protect data from being accidentally modified.\n",
        "   - **Tuple**: Tuples are immutable, making them a safer choice for storing constant data, especially when you want to ensure that data remains unchanged throughout the program.\n",
        "\n",
        "---\n",
        "\n",
        "### 8. **Hashability**\n",
        "   - **List**: Lists are **not hashable** because they are mutable. This means they cannot be used as keys in dictionaries or added to sets.\n",
        "   - **Tuple**: Tuples are **hashable** (if all their elements are hashable), so they can be used as dictionary keys or added to sets.\n",
        "\n",
        "   **Example:**\n",
        "   ```python\n",
        "   # List as a dictionary key (this will raise an error)\n",
        "   my_list = [1, 2, 3]\n",
        "   # my_dict = {my_list: \"value\"}  # Raises TypeError\n",
        "\n",
        "   # Tuple as a dictionary key\n",
        "   my_tuple = (1, 2, 3)\n",
        "   my_dict = {my_tuple: \"value\"}  # This works fine\n",
        "   print(my_dict)  # Output: {(1, 2, 3): 'value'}\n",
        "   ```\n",
        "\n",
        "---\n",
        "\n",
        "### Summary Table:\n",
        "\n",
        "| Feature              | **List**                             | **Tuple**                           |\n",
        "|----------------------|--------------------------------------|-------------------------------------|\n",
        "| **Mutability**        | Mutable (can be modified)           | Immutable (cannot be modified)      |\n",
        "| **Syntax**            | Defined using `[]`                  | Defined using `()`                  |\n",
        "| **Performance**       | Slower (due to mutability)          | Faster (due to immutability)        |\n",
        "| **Methods**           | More built-in methods (e.g., `append()`, `remove()`) | Fewer built-in methods (e.g., `count()`, `index()`) |\n",
        "| **Memory**            | Higher memory consumption           | Lower memory consumption            |\n",
        "| **Use Cases**         | For data that can change            | For data that should remain constant |\n",
        "| **Hashability**       | Not hashable                        | Hashable (if elements are hashable) |\n",
        "\n",
        "### Conclusion:\n",
        "\n",
        "- **Lists** are ideal when you need a collection of data that may change during the program's execution (e.g., dynamically adding or removing items).\n",
        "- **Tuples** are best suited for fixed collections where the integrity of the data should be maintained (e.g., for representing constant values or as dictionary keys).\n",
        "\n"
      ],
      "metadata": {
        "id": "W7yxaOLOZG-F"
      }
    },
    {
      "cell_type": "markdown",
      "source": [
        "4. Describe how dictionaries store data.\n",
        "- ### How Dictionaries Store Data in Python\n",
        "\n",
        "In Python, **dictionaries** are a built-in data structure used to store data in the form of **key-value pairs**. Each dictionary consists of unique **keys**, which are mapped to associated **values**. This allows for fast lookups, insertions, and deletions based on the keys.\n",
        "\n",
        "Here’s an overview of how dictionaries store data:\n",
        "\n",
        "### 1. **Key-Value Pairs**\n",
        "   - A **dictionary** stores data as a collection of **key-value pairs**. Each key is unique, and it is associated with a value.\n",
        "   - The keys are used to access the corresponding values.\n",
        "\n",
        "   **Example:**\n",
        "   ```python\n",
        "   my_dict = {\"name\": \"Alice\", \"age\": 25, \"city\": \"New York\"}\n",
        "   ```\n",
        "\n",
        "   In this example:\n",
        "   - The key `\"name\"` maps to the value `\"Alice\"`.\n",
        "   - The key `\"age\"` maps to the value `25`.\n",
        "   - The key `\"city\"` maps to the value `\"New York\"`.\n",
        "\n",
        "### 2. **Hashing Mechanism**\n",
        "   - **Keys** in Python dictionaries are typically stored using a **hash table** internally. A hash table is a data structure that maps keys to specific locations in memory (buckets) using a hash function.\n",
        "   - A **hash function** takes the key and computes a hash value, which is then used to determine where to store the key-value pair in memory.\n",
        "   - This allows for **constant time complexity O(1)** for average lookup, insertion, and deletion operations (in ideal scenarios).\n",
        "   - **Immutability of Keys**: Since hash functions rely on the key’s value not changing, **dictionary keys must be immutable** (e.g., strings, numbers, and tuples) because mutable objects could change their hash values.\n",
        "\n",
        "   **Example of hashing**:\n",
        "   - When you use a key like `\"name\"`, Python hashes the key and stores the value `\"Alice\"` at the location determined by the hash value of `\"name\"`.\n",
        "   - Similarly, for the key `\"age\"`, Python calculates its hash value and stores the value `25` at the corresponding location.\n",
        "\n",
        "### 3. **Collision Handling**\n",
        "   - A **collision** occurs when two different keys generate the same hash value. In such cases, Python uses techniques like **open addressing** or **separate chaining** to handle collisions.\n",
        "   \n",
        "   - **Separate chaining**: This involves storing multiple key-value pairs in a linked list at the same index in the hash table.\n",
        "   - **Open addressing**: This method finds another available slot within the hash table to store the colliding key-value pair.\n",
        "\n",
        "   However, in practice, Python's internal implementation of dictionaries minimizes collisions using advanced techniques to maintain fast access times.\n",
        "\n",
        "### 4. **Efficiency of Lookup**\n",
        "   - When you access a value in a dictionary using a key (e.g., `my_dict[\"name\"]`), Python:\n",
        "     1. Computes the hash of the key `\"name\"`.\n",
        "     2. Uses the hash to find the bucket in memory where the key-value pair is stored.\n",
        "     3. Retrieves the value associated with the key.\n",
        "   - This process is very efficient, which is why dictionaries provide average constant time complexity O(1) for lookup, insertion, and deletion.\n",
        "\n",
        "### 5. **Dynamic Resizing**\n",
        "   - Dictionaries in Python can dynamically resize as elements are added or removed. When a dictionary reaches a certain load factor (a ratio of the number of entries to the number of available slots), it may rehash its contents and expand to a larger hash table to maintain performance.\n",
        "\n",
        "   - This resizing helps maintain efficient access times as the dictionary grows.\n",
        "\n",
        "### 6. **Order of Insertion (Python 3.7 and Above)**\n",
        "   - Starting from Python 3.7, dictionaries maintain the **insertion order** of keys. This means that when you iterate over the dictionary, the items will appear in the order they were added.\n",
        "   - This was not guaranteed in earlier versions of Python, but now it’s an important feature of Python dictionaries.\n",
        "\n",
        "### 7. **Example: Dictionary Operations**\n",
        "   ```python\n",
        "   # Create a dictionary\n",
        "   my_dict = {\"name\": \"Alice\", \"age\": 25, \"city\": \"New York\"}\n",
        "\n",
        "   # Lookup operation (O(1) time complexity)\n",
        "   print(my_dict[\"name\"])  # Output: Alice\n",
        "\n",
        "   # Insert or update operation (O(1) time complexity)\n",
        "   my_dict[\"age\"] = 26  # Update the value of \"age\"\n",
        "   my_dict[\"job\"] = \"Engineer\"  # Add a new key-value pair\n",
        "\n",
        "   # Delete operation (O(1) time complexity)\n",
        "   del my_dict[\"city\"]  # Removes the key \"city\" and its value\n",
        "\n",
        "   # Iteration over dictionary (order maintained since Python 3.7)\n",
        "   for key, value in my_dict.items():\n",
        "       print(key, value)\n",
        "   ```\n",
        "\n",
        "   Output:\n",
        "   ```\n",
        "   Alice\n",
        "   name Alice\n",
        "   age 26\n",
        "   job Engineer\n",
        "   ```\n",
        "\n",
        "### Summary of How Dictionaries Store Data:\n",
        "- **Key-Value Pairs**: Data is stored as key-value pairs where each key is unique.\n",
        "- **Hashing**: Keys are hashed to determine their storage location in memory.\n",
        "- **Efficient Access**: Dictionary operations like lookup, insertion, and deletion are efficient with average time complexity of O(1).\n",
        "- **Collision Handling**: Collisions are resolved using separate chaining or open addressing.\n",
        "- **Immutability of Keys**: Keys must be immutable (e.g., strings, integers, tuples).\n",
        "- **Dynamic Resizing**: The dictionary resizes dynamically as it grows to maintain performance.\n",
        "\n",
        "Dictionaries are a powerful data structure for managing key-based associations, making them ideal for use cases like lookups, caching, counting, and more."
      ],
      "metadata": {
        "id": "XU7kyUEdZwnH"
      }
    },
    {
      "cell_type": "markdown",
      "source": [
        "5. Why might you use a set instead of a list in Python?\n",
        "- ### Why Might You Use a Set Instead of a List in Python?\n",
        "\n",
        "In Python, **sets** and **lists** are both used to store collections of elements, but they have different properties and are suited to different use cases. Here are some reasons why you might choose a **set** over a **list**:\n",
        "\n",
        "---\n",
        "\n",
        "### 1. **Uniqueness of Elements (No Duplicates)**\n",
        "   - **Set**: A set automatically ensures that all elements are unique. If you try to add a duplicate element, it will not be added.\n",
        "   - **List**: A list allows duplicate elements; the same value can appear multiple times.\n",
        "\n",
        "   **When to Use a Set**: If you need to store a collection of items where duplicates should be automatically removed, a set is the best choice.\n",
        "\n",
        "   **Example**:\n",
        "   ```python\n",
        "   my_list = [1, 2, 2, 3, 4, 4]\n",
        "   my_set = {1, 2, 2, 3, 4, 4}\n",
        "   print(my_list)  # Output: [1, 2, 2, 3, 4, 4]\n",
        "   print(my_set)   # Output: {1, 2, 3, 4}\n",
        "   ```\n",
        "\n",
        "---\n",
        "\n",
        "### 2. **Faster Membership Testing**\n",
        "   - **Set**: Checking whether an element exists in a set is much faster than checking in a list, especially for large collections. Sets use a **hash table** internally, which allows for **average O(1) time complexity** for membership tests.\n",
        "   - **List**: Checking membership in a list takes **O(n)** time, as Python needs to scan through all the elements in the list.\n",
        "\n",
        "   **When to Use a Set**: If you need to frequently check if an element is present in the collection, a set will be more efficient than a list.\n",
        "\n",
        "   **Example**:\n",
        "   ```python\n",
        "   # Membership testing\n",
        "   my_list = [1, 2, 3, 4, 5]\n",
        "   my_set = {1, 2, 3, 4, 5}\n",
        "   \n",
        "   print(3 in my_list)  # Output: True (but slower for large lists)\n",
        "   print(3 in my_set)   # Output: True (faster for large sets)\n",
        "   ```\n",
        "\n",
        "---\n",
        "\n",
        "### 3. **Mathematical Set Operations (Union, Intersection, Difference, etc.)**\n",
        "   - **Set**: Sets in Python come with built-in methods for performing **set operations** like union, intersection, difference, and symmetric difference. These operations are often required in mathematical contexts, data analysis, and problem-solving.\n",
        "   - **List**: Lists don’t directly support set operations, and you’d have to implement them manually or use functions like `filter()` or `map()`.\n",
        "\n",
        "   **When to Use a Set**: If you need to perform mathematical operations like finding common elements (intersection), combining elements (union), or eliminating differences (difference), sets are ideal.\n",
        "\n",
        "   **Example**:\n",
        "   ```python\n",
        "   set1 = {1, 2, 3, 4}\n",
        "   set2 = {3, 4, 5, 6}\n",
        "\n",
        "   # Union\n",
        "   print(set1 | set2)  # Output: {1, 2, 3, 4, 5, 6}\n",
        "\n",
        "   # Intersection\n",
        "   print(set1 & set2)  # Output: {3, 4}\n",
        "\n",
        "   # Difference\n",
        "   print(set1 - set2)  # Output: {1, 2}\n",
        "\n",
        "   # Symmetric Difference\n",
        "   print(set1 ^ set2)  # Output: {1, 2, 5, 6}\n",
        "   ```\n",
        "\n",
        "---\n",
        "\n",
        "### 4. **Performance with Large Datasets**\n",
        "   - **Set**: Sets are **more efficient** when working with large datasets in terms of performance for operations like membership testing, union, and intersection, as they are implemented with a hash table and typically provide **O(1)** average time complexity.\n",
        "   - **List**: Lists become inefficient for large datasets, particularly when performing membership tests or checking for duplicates, because the time complexity is **O(n)**.\n",
        "\n",
        "   **When to Use a Set**: For large collections of data, especially when the collection needs to support frequent membership tests or mathematical operations.\n",
        "\n",
        "---\n",
        "\n",
        "### 5. **No Ordering**\n",
        "   - **Set**: Sets are **unordered** collections, meaning that the order of elements is not guaranteed, and you cannot access elements by an index (e.g., `set[0]` will raise an error).\n",
        "   - **List**: Lists are **ordered** collections, meaning the order of elements is maintained, and you can access them by index.\n",
        "\n",
        "   **When to Use a Set**: If you don’t care about the order of elements and just need to store unique items and perform efficient operations, a set is a better choice.\n",
        "\n",
        "   **Example**:\n",
        "   ```python\n",
        "   my_set = {3, 1, 2}\n",
        "   my_list = [3, 1, 2]\n",
        "   \n",
        "   print(my_set)  # Output could be {1, 2, 3}, order is not guaranteed\n",
        "   print(my_list)  # Output: [3, 1, 2], order is preserved\n",
        "   ```\n",
        "\n",
        "---\n",
        "\n",
        "### 6. **Memory Efficiency**\n",
        "   - **Set**: Because sets use a hash table internally, they can be **more memory efficient** when it comes to storing unique elements compared to lists with duplicates.\n",
        "   - **List**: Lists can have duplicate elements, so if there are many duplicate values, the list can use more memory.\n",
        "\n",
        "   **When to Use a Set**: When memory efficiency is important and you are working with a collection where duplicates are not needed.\n",
        "\n",
        "---\n",
        "\n",
        "### 7. **Use Cases for Sets vs. Lists**\n",
        "   - **Use a Set**:\n",
        "     - When you need to ensure uniqueness (e.g., removing duplicates from a collection).\n",
        "     - When you frequently check membership (i.e., test if an item is present in a collection).\n",
        "     - When performing mathematical set operations (union, intersection, difference, etc.).\n",
        "     - When working with large datasets that need to be processed efficiently.\n",
        "   \n",
        "   - **Use a List**:\n",
        "     - When order matters, or you need to maintain the sequence of elements.\n",
        "     - When you need to store data that may have duplicates (e.g., when order or counting is important).\n",
        "     - When you need to access elements by index or need specific ordering of elements.\n",
        "\n",
        "---\n",
        "\n",
        "### Conclusion\n",
        "\n",
        "- **Use a Set** when you need unique elements, fast membership testing, or to perform set operations (union, intersection, etc.) on your data.\n",
        "- **Use a List** when you need to maintain an ordered collection of items or need to allow duplicates, and when you need to access elements by index.\n",
        "\n",
        "In summary, the decision to use a set or a list depends on the specific requirements of your application, such as performance needs, the necessity of maintaining order, or the importance of uniqueness in your collection."
      ],
      "metadata": {
        "id": "_4PFhay6aIWU"
      }
    },
    {
      "cell_type": "markdown",
      "source": [
        "6. What is a string in Python, and how is it different from a list?\n",
        "-### What is a String in Python?\n",
        "\n",
        "A **string** in Python is a **sequence of characters** enclosed within single quotes (`'`) or double quotes (`\"`). Strings can represent text data, such as words, sentences, or even special characters.\n",
        "\n",
        "#### Example of a String:\n",
        "```python\n",
        "my_string = \"Hello, World!\"\n",
        "```\n",
        "In this example, `\"Hello, World!\"` is a string containing 13 characters (including spaces and punctuation).\n",
        "\n",
        "### Properties of Strings:\n",
        "- **Immutable**: Strings in Python are **immutable**, meaning once a string is created, it cannot be changed. You cannot modify individual characters in a string.\n",
        "- **Indexed**: Like lists, strings are **ordered** and support indexing. You can access individual characters using indices (starting from 0).\n",
        "  \n",
        "  **Example:**\n",
        "  ```python\n",
        "  my_string = \"Hello\"\n",
        "  print(my_string[0])  # Output: H\n",
        "  print(my_string[1])  # Output: e\n",
        "  ```\n",
        "\n",
        "- **Support for slicing**: Strings can be sliced to get substrings.\n",
        "  \n",
        "  **Example:**\n",
        "  ```python\n",
        "  my_string = \"Hello, World!\"\n",
        "  print(my_string[0:5])  # Output: Hello\n",
        "  ```\n",
        "\n",
        "- **Supports various methods**: Strings come with many built-in methods for text manipulation, such as `lower()`, `upper()`, `split()`, `replace()`, etc.\n",
        "\n",
        "---\n",
        "\n",
        "### How is a String Different from a List?\n",
        "\n",
        "Although strings and lists are both sequences in Python, they differ in several key ways:\n",
        "\n",
        "---\n",
        "\n",
        "### 1. **Mutability**\n",
        "   - **String**: **Immutable**. Once created, you cannot modify individual characters in a string.\n",
        "     ```python\n",
        "     my_string = \"Hello\"\n",
        "     # my_string[0] = \"h\"  # This will raise a TypeError\n",
        "     ```\n",
        "   - **List**: **Mutable**. You can modify, add, or remove elements in a list.\n",
        "     ```python\n",
        "     my_list = [1, 2, 3]\n",
        "     my_list[0] = 100  # This is allowed\n",
        "     print(my_list)  # Output: [100, 2, 3]\n",
        "     ```\n",
        "\n",
        "---\n",
        "\n",
        "### 2. **Data Type**\n",
        "   - **String**: A string is specifically for storing **text** (characters).\n",
        "   - **List**: A list can store any type of **objects** or **data types** (integers, strings, lists, etc.). A list can hold multiple types of data within it.\n",
        "   \n",
        "     **Example of a List:**\n",
        "     ```python\n",
        "     my_list = [1, \"apple\", 3.14, [5, 6]]\n",
        "     ```\n",
        "\n",
        "---\n",
        "\n",
        "### 3. **Element Access and Indexing**\n",
        "   - **String**: Elements in a string are **characters**, and you can access them using indexing (e.g., `my_string[0]` gives the first character).\n",
        "   - **List**: Elements in a list can be of any type (integers, strings, objects, etc.), and you access them by index in the same way as strings.\n",
        "   \n",
        "     **Example:**\n",
        "     ```python\n",
        "     my_string = \"Hello\"\n",
        "     print(my_string[1])  # Output: e\n",
        "\n",
        "     my_list = [1, \"apple\", 3.14]\n",
        "     print(my_list[1])  # Output: apple\n",
        "     ```\n",
        "\n",
        "---\n",
        "\n",
        "### 4. **Support for Operations**\n",
        "   - **String**: Strings support **concatenation** and **repetition**, but they do not support operations like appending or removing elements because they are immutable.\n",
        "   \n",
        "     **Examples:**\n",
        "     ```python\n",
        "     my_string = \"Hello\"\n",
        "     new_string = my_string + \" World\"  # Concatenation\n",
        "     print(new_string)  # Output: Hello World\n",
        "\n",
        "     repeated_string = my_string * 3  # Repetition\n",
        "     print(repeated_string)  # Output: HelloHelloHello\n",
        "     ```\n",
        "\n",
        "   - **List**: Lists support a wider range of operations like **append()**, **extend()**, **remove()**, **pop()**, etc.\n",
        "   \n",
        "     **Examples:**\n",
        "     ```python\n",
        "     my_list = [1, 2, 3]\n",
        "     my_list.append(4)  # Add 4 to the list\n",
        "     print(my_list)  # Output: [1, 2, 3, 4]\n",
        "\n",
        "     my_list.remove(2)  # Remove 2 from the list\n",
        "     print(my_list)  # Output: [1, 3, 4]\n",
        "     ```\n",
        "\n",
        "---\n",
        "\n",
        "### 5. **Slicing**\n",
        "   - **String**: Strings support slicing to extract a substring.\n",
        "     ```python\n",
        "     my_string = \"Hello, World!\"\n",
        "     print(my_string[0:5])  # Output: Hello\n",
        "     ```\n",
        "\n",
        "   - **List**: Lists also support slicing to extract sublists.\n",
        "     ```python\n",
        "     my_list = [1, 2, 3, 4, 5]\n",
        "     print(my_list[1:4])  # Output: [2, 3, 4]\n",
        "     ```\n",
        "\n",
        "---\n",
        "\n",
        "### 6. **Memory Efficiency**\n",
        "   - **String**: Strings are **more memory efficient** for text storage because they are immutable. Python can reuse the same string object to save memory (i.e., string interning).\n",
        "   - **List**: Lists can use more memory because they are mutable and can store elements of different data types, which requires additional memory management overhead.\n",
        "\n",
        "---\n",
        "\n",
        "### 7. **Use Cases**\n",
        "   - **String**: Strings are typically used for **storing and manipulating text**. They are ideal for working with characters, sentences, words, or any other textual data.\n",
        "   - **List**: Lists are used for **storing collections of items** that may vary in type and can be modified. Lists are versatile and can be used for a wide range of tasks, including holding multiple objects, performing calculations, and more.\n",
        "\n",
        "---\n",
        "\n",
        "### Summary of Key Differences:\n",
        "\n",
        "| **Feature**           | **String**                               | **List**                                 |\n",
        "|-----------------------|------------------------------------------|------------------------------------------|\n",
        "| **Mutability**        | Immutable (cannot be changed after creation) | Mutable (can be modified, added, or removed) |\n",
        "| **Data Type**         | Stores characters (text data)            | Stores any type of data (integers, strings, objects, etc.) |\n",
        "| **Element Access**    | Accessed by index (characters)           | Accessed by index (any type of element) |\n",
        "| **Operations**        | Supports concatenation, repetition       | Supports appending, removing, inserting, etc. |\n",
        "| **Slicing**           | Slicing to get substrings               | Slicing to get sublists                 |\n",
        "| **Memory Efficiency** | More efficient for text storage          | Can use more memory for various data types |\n",
        "| **Use Cases**         | Ideal for storing and manipulating text  | Ideal for storing collections of data that may change |\n",
        "\n",
        "### Conclusion:\n",
        "\n",
        "- **Strings** are ideal when you need to work with **textual data**, and you don’t need to modify individual characters.\n",
        "- **Lists** are better suited for **storing collections** of data where you might need to add, remove, or modify elements, and where the elements can be of different types."
      ],
      "metadata": {
        "id": "cGSE6Ir3apJK"
      }
    },
    {
      "cell_type": "markdown",
      "source": [
        "7. How do tuples ensure data integrity in Python?\n",
        "- ### How Tuples Ensure Data Integrity in Python\n",
        "\n",
        "In Python, **tuples** are an **immutable** data structure, which is one of the main reasons they help ensure **data integrity**. This immutability is a key feature that distinguishes tuples from other collections like lists. Let's explore how this property of tuples ensures data integrity:\n",
        "\n",
        "---\n",
        "\n",
        "### 1. **Immutability**\n",
        "   - A **tuple** is **immutable**, meaning that once a tuple is created, its contents (the elements) cannot be changed. You cannot add, remove, or modify elements in a tuple.\n",
        "   - This immutability ensures that the data remains unchanged throughout the program, preventing accidental or unwanted alterations. This is particularly useful when you want to protect important data from being modified.\n",
        "\n",
        "   **Example of Immutability:**\n",
        "   ```python\n",
        "   my_tuple = (1, 2, 3)\n",
        "   # Attempting to modify an element will raise an error\n",
        "   # my_tuple[0] = 100  # TypeError: 'tuple' object does not support item assignment\n",
        "   ```\n",
        "\n",
        "   Since you cannot alter the elements of a tuple, it provides a **guarantee** that the data will remain the same, thus preserving its **integrity**.\n",
        "\n",
        "---\n",
        "\n",
        "### 2. **Preventing Unintentional Data Modification**\n",
        "   - In situations where data integrity is crucial, tuples are ideal because they prevent functions or processes from modifying the data accidentally.\n",
        "   - For example, when you pass a tuple to a function, the function cannot change its values, ensuring that the original data remains unaltered.\n",
        "\n",
        "   **Example of Preventing Unintended Modifications:**\n",
        "   ```python\n",
        "   def process_data(data):\n",
        "       # Trying to modify 'data' inside the function would raise an error\n",
        "       # data[0] = 10  # TypeError: 'tuple' object does not support item assignment\n",
        "       return data\n",
        "\n",
        "   my_data = (1, 2, 3)\n",
        "   result = process_data(my_data)\n",
        "   print(result)  # Output: (1, 2, 3)\n",
        "   ```\n",
        "\n",
        "   In this case, the **data integrity** of `my_data` is maintained because it can't be changed inside the function.\n",
        "\n",
        "---\n",
        "\n",
        "### 3. **Faster Performance and Optimized Memory Usage**\n",
        "   - Tuples are **more memory efficient** than lists because they are immutable. The memory layout for a tuple is optimized for faster access and lower overhead, making it more efficient when dealing with large collections of data.\n",
        "   - This efficiency is another form of \"data integrity\" because it reduces the chances of errors related to inefficient memory usage or performance bottlenecks, ensuring that the data remains consistently available without disruption.\n",
        "\n",
        "---\n",
        "\n",
        "### 4. **Use in Data Structures that Require Immutable Keys (e.g., Dictionaries)**\n",
        "   - Since tuples are immutable, they can be used as **keys in dictionaries** or **elements in sets** (which require their elements to be hashable). The hash value of a tuple remains constant throughout its lifetime, ensuring that the data remains consistent and usable in these data structures.\n",
        "   - For example, you can use tuples to represent coordinates in a 2D or 3D space as dictionary keys, ensuring the integrity of those coordinates.\n",
        "\n",
        "   **Example of Using Tuples as Keys in a Dictionary:**\n",
        "   ```python\n",
        "   coordinates = {}\n",
        "   coordinates[(0, 0)] = \"Origin\"\n",
        "   coordinates[(1, 2)] = \"Point A\"\n",
        "\n",
        "   print(coordinates)  # Output: {(0, 0): 'Origin', (1, 2): 'Point A'}\n",
        "   ```\n",
        "\n",
        "   If the coordinates were stored in a **list** instead of a **tuple**, they could be changed, leading to potential issues when used as dictionary keys (as lists are mutable and cannot be used as dictionary keys).\n",
        "\n",
        "---\n",
        "\n",
        "### 5. **Predictability in Multithreading and Concurrent Programs**\n",
        "   - In multithreaded or concurrent programming, data integrity is critical. Since tuples are immutable, they are **safe to use across multiple threads** because they cannot be changed by any thread, reducing the risk of **race conditions** or data corruption.\n",
        "   - This makes tuples a reliable choice when you need to store shared data that must remain unchanged across threads.\n",
        "\n",
        "---\n",
        "\n",
        "### 6. **Ensuring Consistent Data Representation**\n",
        "   - Tuples can be used to represent **structured data** (e.g., a pair of coordinates, date-time representations, or configurations) where the **integrity** of the data’s structure is important.\n",
        "   - Since tuples cannot be modified, they ensure that the data’s representation remains consistent throughout the program.\n",
        "\n",
        "   **Example of Consistent Data Representation:**\n",
        "   ```python\n",
        "   coordinates = (10.5, 20.3)\n",
        "   # The structure of the coordinates will not change\n",
        "   ```\n",
        "\n",
        "---\n",
        "\n",
        "### 7. **Data Integrity in Function Arguments and Return Values**\n",
        "   - Tuples are often used to **return multiple values** from a function, ensuring that these values are returned in their exact original form, without the risk of modification.\n",
        "   - Using tuples to represent multiple related values (e.g., a function that returns the **coordinates** of a point) ensures that the data is returned as a coherent, immutable collection.\n",
        "\n",
        "   **Example of Returning a Tuple from a Function:**\n",
        "   ```python\n",
        "   def get_coordinates():\n",
        "       return (10.5, 20.3)\n",
        "   \n",
        "   coordinates = get_coordinates()\n",
        "   print(coordinates)  # Output: (10.5, 20.3)\n",
        "   ```\n",
        "\n",
        "---\n",
        "\n",
        "### Summary of How Tuples Ensure Data Integrity:\n",
        "\n",
        "1. **Immutability**: Once a tuple is created, it cannot be altered, ensuring the data remains unchanged.\n",
        "2. **Protection from Unintentional Modifications**: Since tuples cannot be modified, they prevent accidental data changes, ensuring the integrity of the data.\n",
        "3. **Memory Efficiency**: Tuples use less memory and are optimized for faster access, ensuring that the data remains consistent without performance issues.\n",
        "4. **Usable as Dictionary Keys**: Tuples, being immutable, can be used as dictionary keys or set elements, which require hashable types, ensuring the data's integrity when stored in these structures.\n",
        "5. **Multithreading Safety**: Tuples are safe for use in multithreaded programs, as their immutability prevents concurrent threads from modifying shared data.\n",
        "6. **Consistent Data Representation**: Tuples are ideal for representing structured data, ensuring its structure is preserved and cannot be altered.\n",
        "\n",
        "In conclusion, tuples provide a mechanism for ensuring **data integrity** by making sure that once data is set, it remains unchanged, preventing unintended modifications and ensuring that the data can be safely used across different contexts in Python."
      ],
      "metadata": {
        "id": "_Ac6MnFgbALP"
      }
    },
    {
      "cell_type": "markdown",
      "source": [
        "8. What is a hash table, and how does it relate to dictionaries in Python?\n",
        "- ### What is a Hash Table?\n",
        "\n",
        "A **hash table** (also known as a **hash map**) is a data structure that provides an efficient way to store and retrieve data using a key-value pair. The basic idea behind a hash table is to use a **hash function** to convert a given key into an **index** (or hash value), which is used to store or retrieve the corresponding value in the table.\n",
        "\n",
        "#### Key Features of a Hash Table:\n",
        "1. **Key-Value Pairs**: Data is stored as pairs of keys and their associated values. Each key is unique, and the key is used to access the associated value.\n",
        "   \n",
        "   Example:\n",
        "   ```plaintext\n",
        "   Key: \"name\", Value: \"Alice\"\n",
        "   Key: \"age\", Value: 25\n",
        "   ```\n",
        "\n",
        "2. **Hash Function**: A hash function takes an input (the key) and returns an integer, called a **hash value**, which is used as an index to store the corresponding value in an array or list.\n",
        "   \n",
        "3. **Buckets**: The hash table uses an array or list where each position (or bucket) corresponds to a hash value. When a key is hashed, the hash value determines the index of the bucket where the value is stored.\n",
        "\n",
        "4. **Efficient Lookup**: Hash tables allow for **average O(1)** time complexity for insertions, deletions, and lookups, meaning that operations can be performed very quickly.\n",
        "\n",
        "---\n",
        "\n",
        "### How Hash Tables Work:\n",
        "\n",
        "1. **Inserting Data**: When you insert a key-value pair into a hash table, the hash function is applied to the key to determine its position in the hash table. The value is then stored at that position (bucket).\n",
        "   \n",
        "2. **Retrieving Data**: To retrieve the value associated with a given key, the hash function is applied to the key again to find the corresponding bucket. The value is then fetched from that position.\n",
        "\n",
        "3. **Collisions**: When two keys hash to the same index (a **collision**), the hash table must handle this collision. Common strategies to handle collisions include **chaining** (where each bucket holds a list of key-value pairs) or **open addressing** (where the table searches for an open slot).\n",
        "\n",
        "---\n",
        "\n",
        "### How Does a Hash Table Relate to Dictionaries in Python?\n",
        "\n",
        "In Python, a **dictionary** is implemented using a **hash table**. A dictionary stores key-value pairs, where the keys are hashed to determine their storage location, and the values are accessed or modified through these keys.\n",
        "\n",
        "#### Key Features of Python Dictionaries:\n",
        "1. **Key-Value Pairing**: Like a hash table, Python dictionaries store data as key-value pairs. Each key is unique, and values can be of any data type.\n",
        "   \n",
        "   Example:\n",
        "   ```python\n",
        "   my_dict = {\"name\": \"Alice\", \"age\": 25}\n",
        "   print(my_dict[\"name\"])  # Output: Alice\n",
        "   ```\n",
        "\n",
        "2. **Efficiency**: Python dictionaries provide **average O(1)** time complexity for lookups, insertions, and deletions, thanks to the underlying hash table structure.\n",
        "\n",
        "3. **Hashing**: Python uses a hash function to compute the hash value of the keys. The hash value determines where the key-value pair is stored in memory. When retrieving or modifying a value, the hash value of the key is used to find the location.\n",
        "\n",
        "4. **Collisions Handling**: Python's dictionary handles collisions internally using **open addressing** or another method, but this is abstracted away from the user. The user does not need to worry about how collisions are handled when using a dictionary.\n",
        "\n",
        "#### Example of Dictionary in Python:\n",
        "```python\n",
        "my_dict = {\n",
        "    \"name\": \"Alice\",\n",
        "    \"age\": 25,\n",
        "    \"city\": \"New York\"\n",
        "}\n",
        "\n",
        "# Accessing a value using a key\n",
        "print(my_dict[\"name\"])  # Output: Alice\n",
        "\n",
        "# Adding a new key-value pair\n",
        "my_dict[\"job\"] = \"Engineer\"\n",
        "\n",
        "# Modifying an existing value\n",
        "my_dict[\"age\"] = 26\n",
        "\n",
        "# Deleting a key-value pair\n",
        "del my_dict[\"city\"]\n",
        "```\n",
        "\n",
        "---\n",
        "\n",
        "### Key Differences Between a Hash Table and Python Dictionary:\n",
        "\n",
        "| **Feature**                  | **Hash Table**                            | **Python Dictionary**                     |\n",
        "|------------------------------|-------------------------------------------|-------------------------------------------|\n",
        "| **Storage**                   | Stores key-value pairs in an array using hash values | Stores key-value pairs using a hash table |\n",
        "| **Key Lookup Time**           | Average O(1) for lookup, insertion, and deletion | Average O(1) for lookup, insertion, and deletion |\n",
        "| **Handling Collisions**       | Handled through chaining or open addressing | Handled internally (open addressing or other strategies) |\n",
        "| **Mutability**                | Can be modified (values changed, keys inserted or removed) | Can be modified (values changed, keys inserted or removed) |\n",
        "| **Implementation**            | Manual implementation required in most languages | Built-in data structure in Python |\n",
        "| **Data Types**                | Keys must be hashable (usually immutable types like strings, numbers, etc.) | Keys must be hashable, and values can be of any type |\n",
        "\n",
        "---\n",
        "\n",
        "### Summary:\n",
        "\n",
        "- A **hash table** is a data structure that stores key-value pairs and uses a hash function to determine where to store or retrieve the values, offering fast access with average O(1) time complexity.\n",
        "- Python's **dictionaries** are implemented using hash tables, providing efficient data retrieval and storage by using keys that are hashed to determine their location in memory.\n",
        "- The Python dictionary abstracts the complexity of hash table management, allowing the user to easily store, access, and modify key-value pairs without worrying about how the hash table handles collisions or memory management.\n",
        "\n",
        "In conclusion, dictionaries in Python are built on the principles of hash tables, leveraging their efficiency and structure to provide fast key-based data access."
      ],
      "metadata": {
        "id": "VT27Akf2bOB4"
      }
    },
    {
      "cell_type": "markdown",
      "source": [
        "9. Can lists contain different data types in Python?\n",
        "- Yes, **lists** in Python can contain **different data types**. Unlike some other programming languages that require elements in a collection (like an array) to be of the same type, Python lists are **heterogeneous**. This means that a single list can contain a mix of data types, such as integers, strings, floats, booleans, and even other lists or objects.\n",
        "\n",
        "### Example of a List with Different Data Types:\n",
        "\n",
        "```python\n",
        "my_list = [42, \"hello\", 3.14, True, [1, 2, 3], {\"key\": \"value\"}]\n",
        "print(my_list)\n",
        "```\n",
        "\n",
        "### Output:\n",
        "```plaintext\n",
        "[42, 'hello', 3.14, True, [1, 2, 3], {'key': 'value'}]\n",
        "```\n",
        "\n",
        "In this example, `my_list` contains:\n",
        "- An **integer** (`42`)\n",
        "- A **string** (`\"hello\"`)\n",
        "- A **float** (`3.14`)\n",
        "- A **boolean** (`True`)\n",
        "- A **list** (`[1, 2, 3]`)\n",
        "- A **dictionary** (`{\"key\": \"value\"}`)\n",
        "\n",
        "### Why is this useful?\n",
        "This flexibility allows you to store related but different types of data together in a single list. For example, you might have a list containing:\n",
        "- A person's name (string),\n",
        "- Their age (integer),\n",
        "- Their height (float),\n",
        "- A flag indicating whether they are a student (boolean),\n",
        "- A list of hobbies (another list).\n",
        "\n",
        "### Example:\n",
        "\n",
        "```python\n",
        "person_info = [\"Alice\", 30, 5.6, True, [\"reading\", \"swimming\"], {\"city\": \"New York\"}]\n",
        "```\n",
        "\n",
        "This list allows you to represent a diverse set of data in a well-organized manner, which is helpful for many applications in Python."
      ],
      "metadata": {
        "id": "KUER4PCacHOe"
      }
    },
    {
      "cell_type": "markdown",
      "source": [
        "10. Explain why strings are immutable in Python ?\n",
        "-In Python, **strings** are **immutable**, meaning once a string is created, its content cannot be changed or modified. The immutability of strings is an important feature of Python and has several implications and benefits. Let’s explore why strings are immutable and the advantages of this design choice:\n",
        "\n",
        "---\n",
        "\n",
        "### 1. **Efficiency and Performance**\n",
        "   - **Memory Efficiency**: Immutability allows Python to optimize memory usage for strings. Since strings cannot be modified after they are created, Python can reuse the same memory location for identical strings. This is known as **string interning**.\n",
        "     - For example, if two variables hold the same string, Python may store only one copy of the string in memory, rather than two.\n",
        "     - This reduces the memory footprint of your program, especially when you have many identical strings in your code.\n",
        "\n",
        "   **Example:**\n",
        "   ```python\n",
        "   a = \"hello\"\n",
        "   b = \"hello\"\n",
        "   # Both a and b point to the same memory location due to string interning\n",
        "   print(a is b)  # Output: True\n",
        "   ```\n",
        "\n",
        "---\n",
        "\n",
        "### 2. **Security and Data Integrity**\n",
        "   - Immutability ensures **data integrity** by preventing accidental or malicious modifications to strings once they are created.\n",
        "   - If strings were mutable, it would be easier for external functions, classes, or even parts of the program to alter string data, which could lead to unexpected behavior or bugs.\n",
        "\n",
        "   For example, in a program that handles sensitive data (like passwords or authentication tokens), immutability ensures that the string is not modified accidentally or maliciously, thereby maintaining its integrity.\n",
        "\n",
        "---\n",
        "\n",
        "### 3. **Hashing and Use as Dictionary Keys**\n",
        "   - Immutability is a requirement for an object to be **hashable** in Python. Since strings are immutable, they can be used as keys in dictionaries or elements in sets (which require hashable data types).\n",
        "   - The hash value of a string remains constant throughout its lifetime, which is necessary for efficient lookups in hash-based data structures like dictionaries and sets.\n",
        "\n",
        "   **Example:**\n",
        "   ```python\n",
        "   my_dict = {\"name\": \"Alice\", \"age\": 25}\n",
        "   print(my_dict[\"name\"])  # Output: Alice\n",
        "   # \"name\" is used as a dictionary key because it is immutable\n",
        "   ```\n",
        "\n",
        "   If strings were mutable, their hash values could change, breaking the functionality of hash-based collections like dictionaries, where the keys need to stay consistent.\n",
        "\n",
        "---\n",
        "\n",
        "### 4. **Consistency and Predictability**\n",
        "   - Immutability makes the behavior of strings more **predictable**. Since strings cannot be modified, you don't have to worry about changes in one part of your code affecting other parts unexpectedly. This is especially useful in functional programming paradigms, where immutability is preferred to avoid side effects.\n",
        "   - For instance, when you pass a string to a function, you are assured that the string will not be changed within that function, which can simplify debugging and reasoning about your program.\n",
        "\n",
        "---\n",
        "\n",
        "### 5. **Thread Safety**\n",
        "   - Immutability makes strings inherently **thread-safe**. Since their values cannot be changed, there is no risk of one thread modifying a string while another thread is accessing it. This is particularly useful in multi-threaded applications where shared data is common.\n",
        "\n",
        "---\n",
        "\n",
        "### 6. **Behavior of String Operations**\n",
        "   - String operations (like concatenation, slicing, and formatting) return **new strings** rather than modifying the original string. This aligns with the principle of immutability by ensuring that every operation creates a new object rather than changing the existing one.\n",
        "   \n",
        "   **Example:**\n",
        "   ```python\n",
        "   my_string = \"hello\"\n",
        "   new_string = my_string + \" world\"\n",
        "   print(new_string)  # Output: hello world\n",
        "   print(my_string)   # Output: hello\n",
        "   ```\n",
        "\n",
        "   In this example, `my_string` remains unchanged after the concatenation, and a **new string** (`new_string`) is created.\n",
        "\n",
        "---\n",
        "\n",
        "### 7. **Simplicity of String Management**\n",
        "   - Immutability simplifies the internal design of Python and reduces the complexity of managing strings. Since the contents of strings can't change, Python doesn't need to track changes to string objects, leading to simpler implementation and fewer edge cases for the language runtime.\n",
        "\n",
        "---\n",
        "\n",
        "### Conclusion: Advantages of String Immutability in Python\n",
        "- **Memory Efficiency**: Python can optimize memory usage by reusing identical strings.\n",
        "- **Data Integrity**: Strings cannot be accidentally or maliciously altered, ensuring consistency.\n",
        "- **Hashable**: Immutability allows strings to be used as keys in dictionaries and elements in sets.\n",
        "- **Predictability**: The behavior of strings is more consistent, reducing side effects.\n",
        "- **Thread-Safety**: Strings can be shared safely across threads.\n",
        "- **Simplified Management**: The internal design is more straightforward, avoiding complications of tracking mutable state.\n",
        "\n",
        "In conclusion, strings in Python are immutable for practical reasons related to performance, safety, and simplicity. This design choice provides several benefits and ensures that strings behave in a reliable and efficient way across different use cases."
      ],
      "metadata": {
        "id": "ShLsbgI_dbkU"
      }
    },
    {
      "cell_type": "markdown",
      "source": [
        "11. What advantages do dictionaries offer over lists for certain tasks?\n",
        "- Dictionaries in Python offer several advantages over lists for certain tasks, particularly when you need to work with **key-value pairs**, perform **fast lookups**, or require **unordered collections** with unique keys. Here's a detailed breakdown of the advantages of using dictionaries over lists for specific tasks:\n",
        "\n",
        "### 1. **Faster Lookup by Key**\n",
        "   - **Dictionaries** provide **constant-time O(1)** average time complexity for lookups, insertions, and deletions based on keys. This is because dictionaries are implemented using hash tables, which allow for fast access to values associated with specific keys.\n",
        "   - In contrast, **lists** require linear search (O(n) time complexity) when looking for an element by value, as the elements are ordered and must be checked one by one until a match is found.\n",
        "\n",
        "   **Example**:\n",
        "   - **Dictionary lookup**:\n",
        "     ```python\n",
        "     my_dict = {\"name\": \"Alice\", \"age\": 30, \"city\": \"New York\"}\n",
        "     print(my_dict[\"name\"])  # Output: Alice\n",
        "     ```\n",
        "   - **List lookup** (inefficient for searching by value):\n",
        "     ```python\n",
        "     my_list = [\"Alice\", 30, \"New York\"]\n",
        "     print(my_list[0])  # Output: Alice (but searching for \"Alice\" by value would require a linear search)\n",
        "     ```\n",
        "\n",
        "### 2. **Key-Value Pair Storage**\n",
        "   - **Dictionaries** store data as **key-value pairs**, making them ideal for tasks where you need to associate a unique identifier (key) with a value. This is useful when you need to model relationships between data points, such as storing user information, configuration settings, or mappings of IDs to objects.\n",
        "   - In **lists**, you can only store values sequentially and cannot easily associate values with unique identifiers.\n",
        "\n",
        "   **Example** (Dictionary - Key-Value Storage):\n",
        "   ```python\n",
        "   user_info = {\"username\": \"alice123\", \"email\": \"alice@example.com\", \"age\": 30}\n",
        "   print(user_info[\"username\"])  # Output: alice123\n",
        "   ```\n",
        "\n",
        "### 3. **Uniqueness of Keys**\n",
        "   - **Dictionaries** enforce **unique keys**, meaning that each key in a dictionary must be distinct. This ensures there is no duplication, and you can rely on each key pointing to exactly one value.\n",
        "   - **Lists** do not enforce uniqueness and allow duplicate elements, which can sometimes lead to ambiguity when trying to access or update a particular value.\n",
        "\n",
        "   **Example**:\n",
        "   - **Dictionary** ensures uniqueness of keys:\n",
        "     ```python\n",
        "     my_dict = {\"name\": \"Alice\", \"age\": 30}\n",
        "     # This will raise an error if you try to use a duplicate key\n",
        "     # my_dict[\"name\"] = \"Bob\"  # Updates value associated with \"name\"\n",
        "     ```\n",
        "\n",
        "### 4. **Easy Deletion by Key**\n",
        "   - **Dictionaries** allow easy deletion of key-value pairs using the key. This is a significant advantage when you need to remove specific elements based on their identifier.\n",
        "   - In **lists**, deletion by value requires a search to find the index of the element, which can be slower and less efficient.\n",
        "\n",
        "   **Example** (Dictionary deletion):\n",
        "   ```python\n",
        "   my_dict = {\"name\": \"Alice\", \"age\": 30}\n",
        "   del my_dict[\"name\"]\n",
        "   print(my_dict)  # Output: {'age': 30}\n",
        "   ```\n",
        "\n",
        "   **Example** (List deletion - requires value search):\n",
        "   ```python\n",
        "   my_list = [\"Alice\", \"Bob\", \"Charlie\"]\n",
        "   my_list.remove(\"Alice\")  # Removes the first occurrence of \"Alice\"\n",
        "   print(my_list)  # Output: ['Bob', 'Charlie']\n",
        "   ```\n",
        "\n",
        "### 5. **Unordered Data**\n",
        "   - **Dictionaries** are unordered collections, meaning that the order of the key-value pairs is not guaranteed. This allows you to focus on accessing data based on **keys** rather than relying on the position of the elements. This is useful for tasks where the order does not matter.\n",
        "   - **Lists**, on the other hand, are **ordered collections**, and the position of each element is important. While this can be useful in some cases, it can also be limiting when order is irrelevant.\n",
        "\n",
        "   **Example**:\n",
        "   - **Dictionary (unordered)**:\n",
        "     ```python\n",
        "     my_dict = {\"a\": 1, \"b\": 2, \"c\": 3}\n",
        "     print(list(my_dict))  # Output: ['a', 'b', 'c'] (but order is not guaranteed)\n",
        "     ```\n",
        "   - **List (ordered)**:\n",
        "     ```python\n",
        "     my_list = [1, 2, 3]\n",
        "     print(my_list[0])  # Output: 1 (access by index, order matters)\n",
        "     ```\n",
        "\n",
        "### 6. **Better for Complex Data Structures**\n",
        "   - **Dictionaries** are useful when you need to store **complex data structures**, such as lists, other dictionaries, or objects, as values. This is ideal for scenarios where you need to model nested relationships or store complex configurations.\n",
        "   - In **lists**, while you can store different types of data, you can't directly associate values with specific keys, and the structure becomes more difficult to manage as complexity increases.\n",
        "\n",
        "   **Example** (Dictionary with nested data structures):\n",
        "   ```python\n",
        "   employees = {\n",
        "       101: {\"name\": \"Alice\", \"role\": \"Engineer\", \"age\": 30},\n",
        "       102: {\"name\": \"Bob\", \"role\": \"Manager\", \"age\": 40}\n",
        "   }\n",
        "   print(employees[101][\"name\"])  # Output: Alice\n",
        "   ```\n",
        "\n",
        "### 7. **Flexibility with Data Types as Keys**\n",
        "   - **Dictionaries** allow **any immutable data type** (like strings, numbers, or tuples) to be used as keys. This provides flexibility when you need to use complex data types (e.g., tuples) to uniquely identify items.\n",
        "   - **Lists** cannot be used as keys because they are mutable and not hashable.\n",
        "\n",
        "   **Example** (Dictionary with tuple as key):\n",
        "   ```python\n",
        "   my_dict = {(\"apple\", \"green\"): 10, (\"banana\", \"yellow\"): 5}\n",
        "   print(my_dict[(\"apple\", \"green\")])  # Output: 10\n",
        "   ```\n",
        "\n",
        "### Summary of Advantages of Dictionaries Over Lists:\n",
        "| **Feature**                    | **Dictionary**                                           | **List**                                         |\n",
        "|---------------------------------|----------------------------------------------------------|--------------------------------------------------|\n",
        "| **Lookup by Key**               | Fast O(1) average time complexity for key-based lookups  | O(n) time complexity for value-based lookups     |\n",
        "| **Key-Value Pairs**             | Ideal for associating data with unique keys              | Does not support key-value pairing              |\n",
        "| **Uniqueness of Keys**          | Ensures unique keys                                      | Allows duplicates                               |\n",
        "| **Deletion by Key**             | Easy deletion by key (O(1))                              | Requires search and O(n) deletion               |\n",
        "| **Order**                       | Unordered collection (Python 3.7+ maintains insertion order but not guaranteed for older versions) | Ordered collection                               |\n",
        "| **Complex Data Structures**     | Supports nesting of lists, dictionaries, etc., as values | More limited when it comes to associating data  |\n",
        "| **Data Type for Keys**          | Allows any immutable data type (strings, numbers, tuples) as keys | Only allows integer-based indices as keys       |\n",
        "\n",
        "### When to Use Dictionaries:\n",
        "- When you need to store data as **key-value pairs** (e.g., user info, mappings).\n",
        "- When fast lookups and retrieval by a unique **key** are required.\n",
        "- When you need to **ensure the uniqueness** of each key.\n",
        "- When you need to **handle complex data structures** or associative mappings efficiently.\n",
        "\n",
        "In conclusion, dictionaries are ideal when you need efficient access to data by **key** or need to work with **key-value pairs**, whereas lists are better when order matters or you need to store **sequential data** without needing the efficiency of key-based access."
      ],
      "metadata": {
        "id": "ejcd3nt6d8Ls"
      }
    },
    {
      "cell_type": "markdown",
      "source": [
        "12. Describe a scenario where using a tuple would be preferable over a list.\n",
        "- A scenario where using a **tuple** would be preferable over a **list** is when you need to **store data that should remain constant** or **unchanged** throughout the program. Tuples provide immutability, which makes them ideal for representing fixed collections of items where data integrity and consistency are crucial.\n",
        "\n",
        "### Example Scenario: **Storing Geographic Coordinates (Latitude, Longitude)**\n",
        "\n",
        "Imagine you're building a map application that uses geographic coordinates (latitude and longitude) to locate places on the map. The coordinates for a specific location are fixed and should not change during the program's execution.\n",
        "\n",
        "In this case, a **tuple** would be preferable because:\n",
        "1. The values (latitude and longitude) represent a **fixed pair** of data that shouldn't be altered.\n",
        "2. Using a tuple ensures that the data is **immutable**, preventing accidental modification of the coordinates, which is important for accuracy and integrity in geographic calculations.\n",
        "\n",
        "### Example:\n",
        "\n",
        "```python\n",
        "# Using a tuple to store the coordinates of a location\n",
        "coordinates = (40.7128, -74.0060)  # (latitude, longitude) for New York City\n",
        "\n",
        "# Accessing elements in the tuple\n",
        "latitude = coordinates[0]\n",
        "longitude = coordinates[1]\n",
        "\n",
        "print(\"Latitude:\", latitude)\n",
        "print(\"Longitude:\", longitude)\n",
        "```\n",
        "\n",
        "### Why Tuple is Preferred:\n",
        "- **Immutability**: Once the coordinates are set, they cannot be accidentally modified, ensuring that the data remains consistent throughout the program. This is important for ensuring that the data used for calculations or operations is not changed unexpectedly.\n",
        "- **Efficiency**: Tuples are typically more memory-efficient than lists because they are immutable and thus don't require extra space for tracking changes. This can be especially beneficial when storing large numbers of constant data.\n",
        "- **Hashable**: Because tuples are immutable, they can be used as keys in dictionaries or stored in sets, unlike lists. If you need to store coordinates as dictionary keys (e.g., mapping locations to specific data), tuples are ideal.\n",
        "\n",
        "### When a List Would Not Be Ideal:\n",
        "- **Mutable Data**: If you use a list to store coordinates, there's a risk that the values could be modified unintentionally, which could lead to errors or inconsistent data.\n",
        "\n",
        "```python\n",
        "# Using a list to store coordinates (not ideal in this case)\n",
        "coordinates_list = [40.7128, -74.0060]\n",
        "coordinates_list[0] = 41.0000  # Accidentally changing the latitude\n",
        "print(coordinates_list)\n",
        "```\n",
        "\n",
        "### Conclusion:\n",
        "In this scenario, a **tuple** is the better choice for storing geographic coordinates because it provides **data integrity** (immutability) and better performance. It ensures that the values cannot be accidentally altered, which is critical in applications that rely on fixed data, such as geographic mapping."
      ],
      "metadata": {
        "id": "OT-CHUR-eafo"
      }
    },
    {
      "cell_type": "markdown",
      "source": [
        "13. How do sets handle duplicate values in Python?\n",
        "- In Python, **sets** automatically handle duplicate values by **eliminating duplicates** when the set is created. A **set** is an unordered collection of unique elements, which means that even if you attempt to add a duplicate element, it will be ignored.\n",
        "\n",
        "### Key Points:\n",
        "- **No duplicates**: A set can only contain **unique elements**. Any duplicate elements added to a set will be ignored, and only one instance of the element will remain in the set.\n",
        "- **Unordered**: The elements in a set do not maintain any specific order, so the order in which elements are added does not necessarily correspond to the order in which they are stored or retrieved.\n",
        "- **Efficient membership tests**: Sets are implemented using hash tables, which allow for efficient checking of whether an element is present in the set.\n",
        "\n",
        "### Example of Handling Duplicates:\n",
        "\n",
        "```python\n",
        "my_set = {1, 2, 3, 3, 4, 5, 5, 6}\n",
        "print(my_set)  # Output: {1, 2, 3, 4, 5, 6}\n",
        "```\n",
        "\n",
        "In this example, when you create `my_set`, the duplicate values `3` and `5` are automatically removed, and the set only contains the unique elements `{1, 2, 3, 4, 5, 6}`.\n",
        "\n",
        "### How Sets Handle Duplicates Internally:\n",
        "- When you add an element to a set, Python checks whether the element is already present.\n",
        "- If the element is already in the set, Python does not add it again, ensuring that all elements in the set are unique.\n",
        "\n",
        "### Example of Adding Duplicates:\n",
        "```python\n",
        "my_set = {1, 2, 3}\n",
        "my_set.add(3)  # Adding a duplicate\n",
        "my_set.add(4)  # Adding a new element\n",
        "\n",
        "print(my_set)  # Output: {1, 2, 3, 4}\n",
        "```\n",
        "\n",
        "Here, adding `3` again does not change the set, because sets do not allow duplicates.\n",
        "\n",
        "### When to Use a Set:\n",
        "- When you need to ensure **uniqueness** in your collection of elements.\n",
        "- When you need to perform operations like **set intersection**, **union**, and **difference** efficiently.\n",
        "- When **duplicates** are not relevant to your task and you want to avoid storing them.\n",
        "\n",
        "### Conclusion:\n",
        "Sets in Python automatically handle duplicate values by ensuring that each element in the set is unique. If you attempt to add a duplicate, it will simply be ignored, making sets an efficient choice when uniqueness is a requirement."
      ],
      "metadata": {
        "id": "AsjmNQRbfJLn"
      }
    },
    {
      "cell_type": "markdown",
      "source": [
        "14. How does the “in” keyword work differently for lists and dictionaries?\n",
        "- The **`in`** keyword in Python is used to check if an element exists in a collection, but its behavior differs depending on whether you're using a **list** or a **dictionary**. Let's explore how it works for each:\n",
        "\n",
        "### 1. **Using `in` with Lists**\n",
        "When the `in` keyword is used with a **list**, it checks if the specified element exists in the list by searching through the values in the list. It evaluates whether a given **value** is present in the list.\n",
        "\n",
        "#### Example:\n",
        "\n",
        "```python\n",
        "my_list = [10, 20, 30, 40]\n",
        "print(20 in my_list)  # Output: True\n",
        "print(50 in my_list)  # Output: False\n",
        "```\n",
        "\n",
        "- **What happens internally**: The `in` operator iterates through the list and checks each element to see if it matches the specified value. This has a **linear time complexity of O(n)**, where `n` is the number of elements in the list. It checks every item in the list until it either finds a match or reaches the end of the list.\n",
        "\n",
        "### 2. **Using `in` with Dictionaries**\n",
        "When the `in` keyword is used with a **dictionary**, it checks if the specified element exists as a **key** in the dictionary. It does **not** check the values, but instead checks if the key is present.\n",
        "\n",
        "#### Example:\n",
        "\n",
        "```python\n",
        "my_dict = {\"name\": \"Alice\", \"age\": 30, \"city\": \"New York\"}\n",
        "print(\"name\" in my_dict)  # Output: True\n",
        "print(\"Alice\" in my_dict)  # Output: False\n",
        "```\n",
        "\n",
        "- **What happens internally**: When you use `in` with a dictionary, Python checks if the key is present in the dictionary's internal hash table. This operation has **constant time complexity of O(1)** on average. It is a much faster lookup compared to lists because dictionaries are implemented using hash tables, which allow for fast access to keys.\n",
        "\n",
        "### Key Differences:\n",
        "| **Feature**            | **List**                          | **Dictionary**                              |\n",
        "|------------------------|-----------------------------------|---------------------------------------------|\n",
        "| **What is checked?**    | Checks if the **value** exists in the list | Checks if the **key** exists in the dictionary |\n",
        "| **Time complexity**     | **O(n)**: Linear search through all elements | **O(1)**: Constant time lookup using a hash table |\n",
        "| **Use case**            | To check if a specific value is in the list | To check if a specific key is in the dictionary |\n",
        "\n",
        "### Summary of Differences:\n",
        "- **In Lists**: The `in` keyword checks if the **value** is present in the list, and the search is done linearly through each element.\n",
        "- **In Dictionaries**: The `in` keyword checks if the **key** exists in the dictionary, and the lookup is much faster, using a hash table for constant-time access.\n",
        "\n",
        "This difference makes the `in` keyword much more efficient when working with dictionaries for checking keys compared to lists for checking values."
      ],
      "metadata": {
        "id": "iisoHBBufmp0"
      }
    },
    {
      "cell_type": "markdown",
      "source": [
        "15. Can you modify the elements of a tuple? Explain why or why not?\n",
        "- No, you **cannot modify the elements** of a tuple in Python. This is because tuples are **immutable**, meaning once they are created, their elements cannot be changed, added, or removed. The immutability of tuples is one of their core characteristics, and it ensures that the data within a tuple remains consistent and unaltered throughout the program.\n",
        "\n",
        "### Why Are Tuples Immutable?\n",
        "1. **Immutability by Design**: The primary reason tuples are immutable is that they are intended to represent data that should not change once it is created. This makes them particularly useful when you want to ensure that the data is **fixed** and **cannot be accidentally altered**.\n",
        "\n",
        "2. **Performance Optimization**: Since tuples cannot be modified, Python can optimize their storage. Tuples use less memory compared to lists, as they don't need extra space for managing changes or resizing. This makes them more efficient when you need to store a collection of values that do not require modification.\n",
        "\n",
        "3. **Consistency and Safety**: Immutability also ensures that the data remains consistent and protected from unexpected changes. For example, if a tuple is passed to a function, you can be certain that the tuple's content won't change inside the function, which reduces the risk of bugs and makes your code easier to reason about.\n",
        "\n",
        "4. **Hashability**: Tuples are **hashable** (provided they only contain hashable elements), which means they can be used as keys in dictionaries and stored in sets. This would not be possible if tuples were mutable, as their hash values would change if they could be modified.\n",
        "\n",
        "### Example: Attempting to Modify a Tuple\n",
        "\n",
        "```python\n",
        "my_tuple = (1, 2, 3)\n",
        "# Attempting to change the first element of the tuple\n",
        "my_tuple[0] = 10  # This will raise a TypeError\n",
        "```\n",
        "\n",
        "**Output**:\n",
        "```\n",
        "TypeError: 'tuple' object does not support item assignment\n",
        "```\n",
        "\n",
        "In the example above, trying to modify an element of the tuple (`my_tuple[0] = 10`) results in a `TypeError`, as tuples do not allow assignment to their elements.\n",
        "\n",
        "### What You Can Do with Tuples:\n",
        "- **Access elements**: You can access individual elements of a tuple using indexing.\n",
        "  ```python\n",
        "  my_tuple = (1, 2, 3)\n",
        "  print(my_tuple[1])  # Output: 2\n",
        "  ```\n",
        "\n",
        "- **Slicing**: You can create a new tuple by slicing an existing one, which will also result in a new tuple.\n",
        "  ```python\n",
        "  new_tuple = my_tuple[1:]  # Output: (2, 3)\n",
        "  ```\n",
        "\n",
        "- **Concatenate tuples**: You can create new tuples by concatenating existing ones, but this results in a new tuple, not a modification of the original.\n",
        "  ```python\n",
        "  my_tuple = (1, 2, 3)\n",
        "  new_tuple = my_tuple + (4, 5)  # Output: (1, 2, 3, 4, 5)\n",
        "  ```\n",
        "\n",
        "- **Reassigning a variable**: You can reassign a new tuple to the same variable, but this does not modify the original tuple—it replaces it.\n",
        "  ```python\n",
        "  my_tuple = (1, 2, 3)\n",
        "  my_tuple = (4, 5, 6)  # Reassigning, but not modifying the original tuple\n",
        "  ```\n",
        "\n",
        "### Conclusion:\n",
        "Tuples are immutable in Python, meaning their elements cannot be modified after the tuple is created. This immutability provides benefits such as performance optimization, data integrity, and hashability, making tuples an excellent choice for storing fixed collections of data. If you need to modify the elements of a collection, you should use a **list** instead, as lists are mutable."
      ],
      "metadata": {
        "id": "62jUK0ougLJi"
      }
    },
    {
      "cell_type": "markdown",
      "source": [
        "16. What is a nested dictionary, and give an example of its use case?\n",
        "- A **nested dictionary** is a dictionary where the values themselves are dictionaries, meaning that the dictionary contains other dictionaries as its values. This allows you to represent more complex hierarchical data structures, where each key can map to another dictionary, potentially with its own set of keys and values.\n",
        "\n",
        "### Key Features of Nested Dictionaries:\n",
        "- **Hierarchy**: A nested dictionary allows for multiple levels of data organization. Each dictionary can contain other dictionaries, lists, or other data types as values.\n",
        "- **Flexibility**: You can store complex data structures that require multiple levels of relationships, making nested dictionaries very useful for representing data that naturally has multiple layers.\n",
        "\n",
        "### Example of a Nested Dictionary:\n",
        "\n",
        "```python\n",
        "# A nested dictionary representing a company's employees\n",
        "company = {\n",
        "    \"HR\": {\n",
        "        \"Manager\": \"Alice\",\n",
        "        \"Assistant\": \"Bob\"\n",
        "    },\n",
        "    \"IT\": {\n",
        "        \"Manager\": \"Charlie\",\n",
        "        \"Technician\": \"David\"\n",
        "    },\n",
        "    \"Sales\": {\n",
        "        \"Manager\": \"Eve\",\n",
        "        \"Salesperson\": \"Frank\"\n",
        "    }\n",
        "}\n",
        "\n",
        "# Accessing values in a nested dictionary\n",
        "print(company[\"HR\"][\"Manager\"])  # Output: Alice\n",
        "print(company[\"IT\"][\"Technician\"])  # Output: David\n",
        "```\n",
        "\n",
        "### Explanation of the Example:\n",
        "- The **outer dictionary** represents the **departments** in a company (`\"HR\"`, `\"IT\"`, and `\"Sales\"`), each with its own key-value pairs.\n",
        "- The **inner dictionaries** store information about the employees in each department, where each key represents a role (e.g., \"Manager\", \"Assistant\") and the corresponding value is the name of the employee holding that role.\n",
        "- To access the name of the HR Manager, you would use `company[\"HR\"][\"Manager\"]`.\n",
        "\n",
        "### Use Case Example: **Storing Customer Orders in an E-commerce System**\n",
        "\n",
        "Imagine an e-commerce website where you want to store customer orders, and each order contains multiple items, each with its own details (e.g., product name, price, quantity). A nested dictionary can be used to represent this hierarchical data.\n",
        "\n",
        "```python\n",
        "# A nested dictionary for storing customer orders\n",
        "orders = {\n",
        "    \"order_001\": {\n",
        "        \"customer_name\": \"John Doe\",\n",
        "        \"items\": {\n",
        "            \"item_001\": {\"product\": \"Laptop\", \"price\": 1200, \"quantity\": 1},\n",
        "            \"item_002\": {\"product\": \"Mouse\", \"price\": 25, \"quantity\": 2}\n",
        "        },\n",
        "        \"total_price\": 1250\n",
        "    },\n",
        "    \"order_002\": {\n",
        "        \"customer_name\": \"Jane Smith\",\n",
        "        \"items\": {\n",
        "            \"item_001\": {\"product\": \"Smartphone\", \"price\": 800, \"quantity\": 1},\n",
        "            \"item_002\": {\"product\": \"Headphones\", \"price\": 50, \"quantity\": 1}\n",
        "        },\n",
        "        \"total_price\": 850\n",
        "    }\n",
        "}\n",
        "\n",
        "# Accessing data in a nested dictionary\n",
        "print(orders[\"order_001\"][\"customer_name\"])  # Output: John Doe\n",
        "print(orders[\"order_001\"][\"items\"][\"item_001\"][\"product\"])  # Output: Laptop\n",
        "print(orders[\"order_002\"][\"total_price\"])  # Output: 850\n",
        "```\n",
        "\n",
        "### Explanation of the Example:\n",
        "- The **outer dictionary** has order IDs as keys (`\"order_001\"`, `\"order_002\"`), and each order contains a nested dictionary with information about the customer, the items in the order, and the total price.\n",
        "- The **inner dictionaries** under the `\"items\"` key store the details of each item, with keys for `\"product\"`, `\"price\"`, and `\"quantity\"`.\n",
        "- To access the name of the customer in `order_001`, you use `orders[\"order_001\"][\"customer_name\"]`. To get the product name of `item_001` in `order_001`, you would use `orders[\"order_001\"][\"items\"][\"item_001\"][\"product\"]`.\n",
        "\n",
        "### Benefits of Nested Dictionaries:\n",
        "1. **Hierarchical Data Representation**: Nested dictionaries are a natural way to represent hierarchical or structured data, like organizational charts, product inventories, or multi-level orders.\n",
        "2. **Efficient Access**: You can access deeply nested data using multiple keys, making it easy to retrieve or modify specific elements at different levels of the hierarchy.\n",
        "3. **Dynamic Structure**: You can easily add, modify, or remove entire sections of data by accessing specific keys at various levels in the nested dictionary.\n",
        "\n",
        "### Conclusion:\n",
        "A **nested dictionary** is a powerful tool for storing and manipulating hierarchical data in Python. It allows you to represent complex relationships between data and access elements at different levels using keys. Nested dictionaries are commonly used in scenarios like representing organizational structures, managing multi-level customer orders, or storing configuration data with several layers."
      ],
      "metadata": {
        "id": "sdV3LAEzgzDw"
      }
    },
    {
      "cell_type": "markdown",
      "source": [
        "17. Describe the time complexity of accessing elements in a dictionary.\n",
        "- In Python, dictionaries are implemented using **hash tables**, and the time complexity of accessing elements depends on the underlying hashing mechanism and how well collisions are managed. Here's a detailed explanation of the time complexity for accessing elements in a Python dictionary:\n",
        "\n",
        "### 1. **Average Case: O(1)**\n",
        "The **average-case time complexity** for accessing an element in a dictionary (e.g., `my_dict[key]`) is **O(1)**. This is because Python dictionaries use a **hash table** to store the keys and values, and the dictionary uses the hash of the key to quickly locate the associated value.\n",
        "\n",
        "#### How it works:\n",
        "- The key is passed through a **hash function**, which computes an integer hash value based on the key.\n",
        "- The hash value is used to determine an index in an internal array (the hash table), where the value associated with the key is stored.\n",
        "- This means that, on average, the lookup operation can directly access the value in constant time without needing to iterate over the entire dictionary.\n",
        "\n",
        "**Example:**\n",
        "\n",
        "```python\n",
        "my_dict = {\"apple\": 1, \"banana\": 2, \"cherry\": 3}\n",
        "print(my_dict[\"banana\"])  # Output: 2 (O(1) time complexity)\n",
        "```\n",
        "\n",
        "### 2. **Worst Case: O(n)**\n",
        "While the average case is **O(1)**, there is a **worst-case scenario** where the time complexity can degrade to **O(n)**, where `n` is the number of elements in the dictionary.\n",
        "\n",
        "This happens when **hash collisions** occur. A collision happens when two or more different keys have the same hash value, causing them to be placed in the same position in the hash table. In this case, the dictionary needs to handle the collision, usually by **chaining** (storing colliding keys in a linked list) or **open addressing** (finding another empty spot in the table).\n",
        "\n",
        "#### Worst-Case Scenario:\n",
        "If many keys hash to the same index (i.e., a large number of collisions), the hash table will store multiple keys at the same location, and a lookup may require scanning through the entire list of colliding keys, resulting in an **O(n)** lookup time.\n",
        "\n",
        "However, Python's dictionary implementation minimizes collisions and ensures that the hash table remains sparse, reducing the likelihood of this worst-case scenario.\n",
        "\n",
        "### 3. **Amortized O(1)**\n",
        "Although worst-case access time can be O(n), **amortized time complexity** for dictionary operations remains **O(1)**. This is due to the occasional **rehashing** that happens when the dictionary exceeds a certain size threshold.\n",
        "\n",
        "- **Rehashing**: When the dictionary grows beyond a certain capacity, Python will resize the hash table and rehash all existing keys. This resizing operation can be costly in the short term because it requires rehashing all the entries, but it only happens occasionally. The cost of rehashing is spread out over many operations, making the **average cost of each insert or lookup O(1)**.\n",
        "\n",
        "### Summary of Time Complexities:\n",
        "- **Average Case**: O(1) — For typical key lookups.\n",
        "- **Worst Case**: O(n) — In the rare case of excessive hash collisions.\n",
        "- **Amortized Time**: O(1) — On average, even considering occasional rehashing.\n",
        "\n",
        "### Conclusion:\n",
        "The **average-case time complexity** for accessing elements in a Python dictionary is **O(1)**, thanks to the hash table implementation. While the worst-case time complexity can degrade to **O(n)** due to hash collisions, such cases are rare and Python's internal optimizations (like resizing the hash table) help maintain **amortized O(1)** time complexity for dictionary operations over the long term. Therefore, dictionaries in Python provide very efficient lookups, making them an ideal data structure for many use cases."
      ],
      "metadata": {
        "id": "QnrOIirPhPH5"
      }
    },
    {
      "cell_type": "markdown",
      "source": [
        "18. In what situations are lists preferred over dictionaries?\n",
        "- Lists and dictionaries are both commonly used data structures in Python, but they serve different purposes and are optimized for different types of tasks. Lists are preferred over dictionaries in the following situations:\n",
        "\n",
        "### 1. **When You Need Ordered Collections**\n",
        "   - **Lists** are ordered, meaning the elements maintain their insertion order. You can easily access elements by index and iterate over them in the order they were added.\n",
        "   - **Dictionaries** are also ordered as of Python 3.7+ (insertion order is preserved), but they are optimized for key-based access rather than sequential access.\n",
        "\n",
        "   **Use Case**: If you need to store a sequence of items that need to be accessed or processed in a specific order (e.g., a list of students, a series of numbers), a **list** is the natural choice.\n",
        "\n",
        "   ```python\n",
        "   fruits = ['apple', 'banana', 'cherry']\n",
        "   print(fruits[1])  # Output: banana\n",
        "   ```\n",
        "\n",
        "### 2. **When the Data Structure is a Simple Collection of Values**\n",
        "   - If you're simply collecting a sequence of items (e.g., numbers, strings), and you don't need to associate them with unique keys, a **list** is often more appropriate. Lists are optimized for storing and accessing an ordered collection of items.\n",
        "   \n",
        "   **Use Case**: Storing a list of numbers or strings where you don’t need a key-value pair structure.\n",
        "\n",
        "   ```python\n",
        "   numbers = [1, 2, 3, 4, 5]\n",
        "   ```\n",
        "\n",
        "### 3. **When You Need Index-based Access**\n",
        "   - Lists provide fast access to elements by **indexing**, making them suitable for tasks where you need to retrieve elements based on their position.\n",
        "   \n",
        "   **Use Case**: When you know the position of the element and need to access it quickly, such as processing items by their index (e.g., processing a list of customer records by their order in the list).\n",
        "\n",
        "   ```python\n",
        "   my_list = ['a', 'b', 'c', 'd']\n",
        "   print(my_list[2])  # Output: c\n",
        "   ```\n",
        "\n",
        "### 4. **When You Need to Maintain a Sequence of Items**\n",
        "   - Lists are great when the data represents a **sequence of items** that need to be stored, modified, or iterated over in order. This includes cases where the order matters and you may need to append or pop elements frequently.\n",
        "   \n",
        "   **Use Case**: Maintaining a to-do list, a playlist, or any other list of ordered items.\n",
        "\n",
        "   ```python\n",
        "   tasks = ['study', 'shop', 'clean']\n",
        "   tasks.append('exercise')  # Adding a task\n",
        "   ```\n",
        "\n",
        "### 5. **When You Need to Perform Operations Like Sorting or Slicing**\n",
        "   - **Lists** are particularly well-suited for operations like **sorting**, **slicing**, and **filtering** elements. These operations are typically more straightforward and efficient with lists compared to dictionaries, which are not designed for such operations.\n",
        "\n",
        "   **Use Case**: If you need to sort a collection of items or slice a sequence to extract a subset of data.\n",
        "\n",
        "   ```python\n",
        "   numbers = [5, 3, 9, 1]\n",
        "   sorted_numbers = sorted(numbers)  # [1, 3, 5, 9]\n",
        "   ```\n",
        "\n",
        "### 6. **When You Need to Handle Duplicates**\n",
        "   - **Lists** allow duplicate elements, meaning you can store multiple instances of the same value in a list. If the order of items and repetition of items matter, then a list is preferred over a dictionary, as dictionaries enforce unique keys.\n",
        "\n",
        "   **Use Case**: Keeping track of items that may repeat, such as counting occurrences of words or adding items to a shopping cart.\n",
        "\n",
        "   ```python\n",
        "   items = ['apple', 'banana', 'apple', 'cherry']\n",
        "   ```\n",
        "\n",
        "### 7. **When Memory Efficiency is Less Critical**\n",
        "   - **Lists** are typically more memory efficient for small collections of data, especially when the items don't need additional context (like keys). Lists store only the data and the list structure, whereas dictionaries store both keys and values, which can take up more memory.\n",
        "\n",
        "   **Use Case**: For small datasets where you don't need to associate elements with unique keys, lists are generally simpler and more memory efficient.\n",
        "\n",
        "### 8. **When You Need to Support Simple Iteration**\n",
        "   - **Lists** are optimized for iteration. You can easily loop over all the elements in a list without needing to worry about keys or complex data structures.\n",
        "\n",
        "   **Use Case**: Performing operations on each item in a sequence without needing to worry about the keys.\n",
        "\n",
        "   ```python\n",
        "   fruits = ['apple', 'banana', 'cherry']\n",
        "   for fruit in fruits:\n",
        "       print(fruit)\n",
        "   ```\n",
        "\n",
        "### Summary: When to Use Lists Over Dictionaries\n",
        "You should prefer **lists** over **dictionaries** in the following cases:\n",
        "- When you need an **ordered collection** of items.\n",
        "- When the data is a **simple collection of values** without the need for key-value pairs.\n",
        "- When you need **index-based access** to elements.\n",
        "- When the data represents a **sequence of items** where the order matters.\n",
        "- When you need to **sort**, **slice**, or **filter** items easily.\n",
        "- When you need to allow for **duplicate values**.\n",
        "- When you are working with smaller datasets or when **memory efficiency** is less of a concern.\n",
        "- When you need to perform **simple iteration** over the collection of items.\n",
        "\n",
        "In contrast, **dictionaries** are preferred when you need to associate **unique keys** with **values** or when you need fast **key-based access** to data."
      ],
      "metadata": {
        "id": "oPfsjNtgh2-v"
      }
    },
    {
      "cell_type": "markdown",
      "source": [
        "19. Why are dictionaries considered unordered, and how does that affect data retrieval ?\n",
        "\n",
        "- Dictionaries in Python were originally considered **unordered** before Python 3.7 because, in their earlier implementations, the order in which key-value pairs were inserted into the dictionary was not guaranteed to be preserved. This meant that when you iterated over a dictionary or retrieved keys, values, or items, there was no guarantee of the order they would appear in.\n",
        "\n",
        "However, with the release of **Python 3.7**, dictionaries became **ordered by insertion**, meaning that the order in which you insert key-value pairs into the dictionary is now preserved when you iterate over the dictionary. Despite this change, dictionaries are still **considered unordered** in terms of their **logical design** because the primary purpose of a dictionary is to provide **fast key-based lookups**, not to maintain a specific order of elements.\n",
        "\n",
        "### Why Were Dictionaries Considered Unordered Before Python 3.7?\n",
        "\n",
        "Before Python 3.7, dictionaries were implemented using **hash tables**, and the order of key-value pairs was determined by the internal hash values of the keys. As a result:\n",
        "1. **Key-Value Pair Insertion Order Not Guaranteed**: The order of the elements in the dictionary was based on how the hash table was organized, which was not related to the order in which items were added to the dictionary.\n",
        "2. **Efficiency Focused on Lookup Speed**: Dictionaries were primarily optimized for **fast lookups** by key, not for maintaining an insertion order.\n",
        "\n",
        "Example of unordered dictionary behavior in versions before Python 3.7:\n",
        "\n",
        "```python\n",
        "# Example in Python < 3.7\n",
        "my_dict = {\"apple\": 1, \"banana\": 2, \"cherry\": 3}\n",
        "for key, value in my_dict.items():\n",
        "    print(key, value)\n",
        "```\n",
        "\n",
        "**Output**:\n",
        "The output could be:\n",
        "```\n",
        "cherry 3\n",
        "banana 2\n",
        "apple 1\n",
        "```\n",
        "\n",
        "The order in which the key-value pairs appear can vary, since dictionaries were not designed to maintain the order of insertion.\n",
        "\n",
        "### What Changed in Python 3.7+?\n",
        "\n",
        "Starting with **Python 3.7**, dictionaries are guaranteed to maintain the **insertion order** of key-value pairs. This means that if you insert items into the dictionary in a specific order, that order will be preserved when you iterate over the dictionary or access its elements.\n",
        "\n",
        "For example:\n",
        "\n",
        "```python\n",
        "# Example in Python 3.7+\n",
        "my_dict = {\"apple\": 1, \"banana\": 2, \"cherry\": 3}\n",
        "for key, value in my_dict.items():\n",
        "    print(key, value)\n",
        "```\n",
        "\n",
        "**Output**:\n",
        "```\n",
        "apple 1\n",
        "banana 2\n",
        "cherry 3\n",
        "```\n",
        "\n",
        "In Python 3.7+, the output will preserve the order in which the items were inserted.\n",
        "\n",
        "### Why Are Dictionaries Still Considered Unordered?\n",
        "\n",
        "Even though dictionaries now maintain insertion order in Python 3.7+, they are still considered unordered in the following sense:\n",
        "\n",
        "1. **Primary Purpose of Dictionaries**: The primary purpose of a dictionary is to provide **fast lookups by key** (i.e., to retrieve values associated with keys). Dictionaries are optimized for **key-based access** rather than maintaining the order of elements. The insertion-order guarantee is a secondary feature, not a fundamental characteristic.\n",
        "   \n",
        "2. **Internal Structure**: Internally, Python dictionaries are implemented using **hash tables**. The insertion order is maintained as a convenience feature, but the **conceptual** design of a dictionary is still based on fast key-based lookups rather than ordering.\n",
        "\n",
        "3. **Key-Value Relationship**: Dictionaries represent **mappings** between keys and values, not sequences of ordered items. The idea of order is not as central to the concept of a dictionary as it is to a list or a tuple, which are designed to store ordered sequences of items.\n",
        "\n",
        "### How Does This Affect Data Retrieval?\n",
        "\n",
        "The insertion order is no longer an issue when retrieving data from a dictionary in Python 3.7+ because:\n",
        "- **Data Retrieval by Key**: The time complexity for retrieving a value associated with a key in a dictionary is still **O(1)** on average, regardless of the order in which elements were added. You can always access values using their keys in constant time.\n",
        "  \n",
        "  ```python\n",
        "  my_dict = {\"apple\": 1, \"banana\": 2, \"cherry\": 3}\n",
        "  print(my_dict[\"banana\"])  # Output: 2\n",
        "  ```\n",
        "\n",
        "- **Iterating Over Items**: If you need to iterate over the dictionary, Python 3.7+ ensures that the iteration will follow the order of insertion.\n",
        "  \n",
        "  ```python\n",
        "  for key, value in my_dict.items():\n",
        "      print(key, value)\n",
        "  ```\n",
        "\n",
        "  **Output**:\n",
        "  ```\n",
        "  apple 1\n",
        "  banana 2\n",
        "  cherry 3\n",
        "  ```\n",
        "\n",
        "### When Should You Use a Dictionary?\n",
        "\n",
        "- **Use a dictionary** when you need fast lookups and retrievals based on **unique keys**.\n",
        "- **Insertion order** is now maintained in Python 3.7+, so you can rely on it in most cases when you need to process data in the order in which it was added.\n",
        "- If you need to maintain **strict ordering** or need to frequently **sort** the data, a **list** or **tuple** might be a better choice, as these structures are designed for ordered sequences.\n",
        "\n",
        "### Conclusion:\n",
        "\n",
        "- Dictionaries were considered unordered before Python 3.7 because they were primarily optimized for **fast key-based lookups**, and order was not guaranteed.\n",
        "- Starting in Python 3.7, dictionaries **preserve insertion order**, meaning the order of key-value pairs is maintained.\n",
        "- However, dictionaries are still conceptually **unordered** because their primary purpose is to provide **fast key-based lookups** rather than to maintain order.\n"
      ],
      "metadata": {
        "id": "n56LFSodifi4"
      }
    },
    {
      "cell_type": "markdown",
      "source": [
        "20. Explain the difference between a list and a dictionary in terms of data retrieval.\n",
        "-In Python, **lists** and **dictionaries** are two of the most commonly used data structures, and they differ significantly in terms of **data retrieval**. Here’s a breakdown of the key differences:\n",
        "\n",
        "### 1. **Data Structure Type**\n",
        "\n",
        "- **List**:\n",
        "  - A list is an **ordered collection** of items where each item is accessed using an **index** (a number representing its position in the list).\n",
        "  - Lists can store **any data type**, and the elements are accessed sequentially using their index.\n",
        "\n",
        "- **Dictionary**:\n",
        "  - A dictionary is an **unordered collection** of key-value pairs. The **key** is used to access the associated **value**.\n",
        "  - Unlike a list, a dictionary uses **keys** (which are unique) rather than **indices** to access its data.\n",
        "\n",
        "### 2. **Data Retrieval Mechanism**\n",
        "\n",
        "- **List**:\n",
        "  - In a list, data is retrieved by its **index** (an integer). The index allows you to retrieve the element at that specific position in the list. Indices in Python lists start from **0**.\n",
        "  - Accessing an element by index in a list is **O(1)** (constant time) on average, meaning it takes the same amount of time to retrieve an element regardless of its position in the list.\n",
        "\n",
        "  **Example of list data retrieval**:\n",
        "\n",
        "  ```python\n",
        "  my_list = ['apple', 'banana', 'cherry']\n",
        "  print(my_list[1])  # Output: 'banana' (retrieved by index)\n",
        "  ```\n",
        "\n",
        "  In this case, the element `'banana'` is at index `1` and can be accessed directly.\n",
        "\n",
        "- **Dictionary**:\n",
        "  - In a dictionary, data is retrieved using a **key**, not an index. The key must be unique within the dictionary. The dictionary uses a **hashing mechanism** to quickly map the key to its corresponding value, providing very fast access.\n",
        "  - Retrieving a value by key in a dictionary is **O(1)** (constant time) on average, as dictionaries are optimized for quick key-based lookups.\n",
        "\n",
        "  **Example of dictionary data retrieval**:\n",
        "\n",
        "  ```python\n",
        "  my_dict = {'apple': 1, 'banana': 2, 'cherry': 3}\n",
        "  print(my_dict['banana'])  # Output: 2 (retrieved by key)\n",
        "  ```\n",
        "\n",
        "  In this case, the key `'banana'` is used to retrieve the value `2`.\n",
        "\n",
        "### 3. **Ordering**\n",
        "\n",
        "- **List**:\n",
        "  - **Ordered**: Lists maintain the order of elements in the sequence in which they were added. When you retrieve elements from a list (either by index or through iteration), the order is preserved.\n",
        "  - Lists are designed to represent **sequences** of items.\n",
        "\n",
        "  ```python\n",
        "  my_list = ['apple', 'banana', 'cherry']\n",
        "  print(my_list[0])  # Output: 'apple'\n",
        "  ```\n",
        "\n",
        "- **Dictionary**:\n",
        "  - **Ordered (Python 3.7 and above)**: Starting from Python 3.7, dictionaries also preserve the insertion order of key-value pairs. However, their primary purpose is not to maintain order but to map unique keys to values. The **order of insertion** is preserved when iterating over the dictionary, but it’s not intended for ordered data manipulation like a list.\n",
        "  \n",
        "  ```python\n",
        "  my_dict = {'apple': 1, 'banana': 2, 'cherry': 3}\n",
        "  print(list(my_dict.keys()))  # Output: ['apple', 'banana', 'cherry']\n",
        "  ```\n",
        "\n",
        "### 4. **Key Characteristics of Retrieval**\n",
        "\n",
        "- **List**:\n",
        "  - **Indexed Access**: Data is retrieved using an index (e.g., `my_list[0]`).\n",
        "  - **Data Type**: The list can store **any data type**, but elements are always retrieved based on their position.\n",
        "  - **Order Matters**: Lists are ideal when you need to maintain and access a **sequence** of items.\n",
        "  - **Duplicates Allowed**: Lists allow duplicate values and the same item can appear at different positions in the list.\n",
        "\n",
        "  **Example**:\n",
        "\n",
        "  ```python\n",
        "  my_list = ['apple', 'banana', 'apple']\n",
        "  print(my_list[2])  # Output: 'apple' (retrieved by index)\n",
        "  ```\n",
        "\n",
        "- **Dictionary**:\n",
        "  - **Key-based Access**: Data is retrieved using a key (e.g., `my_dict['banana']`).\n",
        "  - **Unique Keys**: Each key in a dictionary must be unique, and values are accessed based on these keys.\n",
        "  - **No Duplicates**: Dictionaries do not allow duplicate keys, but a key can have an associated value of any data type, including a list, another dictionary, etc.\n",
        "  - **Faster Lookups by Key**: Lookups by key are typically **faster** in dictionaries, especially for large datasets.\n",
        "\n",
        "  **Example**:\n",
        "\n",
        "  ```python\n",
        "  my_dict = {'apple': 1, 'banana': 2, 'apple': 3}  # Overwrites the first 'apple' key-value pair\n",
        "  print(my_dict['banana'])  # Output: 2\n",
        "  ```\n",
        "\n",
        "### 5. **When to Use Each for Data Retrieval**\n",
        "\n",
        "- **Use a list**:\n",
        "  - When you need to maintain a **sequential order** of elements.\n",
        "  - When you need to retrieve items based on their **position** (index).\n",
        "  - When you allow **duplicate values** and need to access them by their position in the list.\n",
        "\n",
        "  **Example use cases for lists**:\n",
        "  - Storing and accessing a sequence of items, such as a list of numbers or strings.\n",
        "  - Iterating over a sequence of items in order, or performing operations based on their position.\n",
        "\n",
        "- **Use a dictionary**:\n",
        "  - When you need to store data in **key-value pairs** and access values based on unique **keys**.\n",
        "  - When you need to quickly look up data using a **key** rather than an index.\n",
        "  - When the keys are meaningful and need to be associated with specific values (e.g., storing user information with usernames as keys).\n",
        "\n",
        "  **Example use cases for dictionaries**:\n",
        "  - Storing configuration settings where each key is a setting name and the value is the setting's value.\n",
        "  - Associating an identifier (key) with specific data (value), like mapping product IDs to product details.\n",
        "\n",
        "### Conclusion:\n",
        "\n",
        "- **List**: Retrieval is by **index** (position), and the data is ordered. Lists are ideal when you need to maintain a sequence and access items based on their position.\n",
        "- **Dictionary**: Retrieval is by **key**, using a **hash table** for fast lookups. Dictionaries are ideal when you need quick access to values using unique identifiers (keys). They are not primarily designed to maintain order, though they do preserve insertion order in Python 3.7+.\n",
        "\n",
        "Understanding when to use each data structure will help you optimize your code for different types of tasks, depending on whether you need **index-based access** (list) or **key-based access** (dictionary)."
      ],
      "metadata": {
        "id": "Nk55VucqjAY6"
      }
    },
    {
      "cell_type": "markdown",
      "source": [
        "#Practical Questions"
      ],
      "metadata": {
        "id": "nJB0KTs8jorI"
      }
    },
    {
      "cell_type": "markdown",
      "source": [
        "1. Write a code to create a string with your name and print it."
      ],
      "metadata": {
        "id": "pGkB0n1Rj2sV"
      }
    },
    {
      "cell_type": "code",
      "source": [
        "# Create a string with my name\n",
        "name = \"himani raikwar\"  #\n",
        "# Print the string\n",
        "print(name)\n"
      ],
      "metadata": {
        "colab": {
          "base_uri": "https://localhost:8080/"
        },
        "id": "pdpgqm_2kB6e",
        "outputId": "2979f740-4670-417c-ef4b-67c147212a5d"
      },
      "execution_count": null,
      "outputs": [
        {
          "output_type": "stream",
          "name": "stdout",
          "text": [
            "himani raikwar\n"
          ]
        }
      ]
    },
    {
      "cell_type": "markdown",
      "source": [
        "2. Write a code to find the length of the string \"Hello World\".\n"
      ],
      "metadata": {
        "id": "zSva_LllkRuv"
      }
    },
    {
      "cell_type": "code",
      "source": [
        "# Define the string\n",
        "text = \"Hello World\"\n",
        "\n",
        "# Find the length of the string\n",
        "length = len(text)\n",
        "\n",
        "# Print the length\n",
        "print(length)\n"
      ],
      "metadata": {
        "colab": {
          "base_uri": "https://localhost:8080/"
        },
        "id": "x1GI_bRiaoV5",
        "outputId": "65a49c1f-c131-408b-c07a-3941dbce960d"
      },
      "execution_count": null,
      "outputs": [
        {
          "output_type": "stream",
          "name": "stdout",
          "text": [
            "11\n"
          ]
        }
      ]
    },
    {
      "cell_type": "markdown",
      "source": [
        "3. Write a code to slice the first 3 characters from the string \"Python Programming\".\n"
      ],
      "metadata": {
        "id": "jhi3L5JGkltH"
      }
    },
    {
      "cell_type": "code",
      "source": [
        "# Define the string\n",
        "text = \"Python Programming\"\n",
        "\n",
        "# Slice the first 3 characters\n",
        "sliced_text = text[:3]\n",
        "\n",
        "# Print the sliced text\n",
        "print(sliced_text)\n"
      ],
      "metadata": {
        "colab": {
          "base_uri": "https://localhost:8080/"
        },
        "id": "1mm8dZ3jkocg",
        "outputId": "64887f3a-3826-4ad7-b5fc-d1ba46e0120e"
      },
      "execution_count": null,
      "outputs": [
        {
          "output_type": "stream",
          "name": "stdout",
          "text": [
            "Pyt\n"
          ]
        }
      ]
    },
    {
      "cell_type": "markdown",
      "source": [
        "4. Write a code to convert the string \"hello\" to uppercase.\n"
      ],
      "metadata": {
        "id": "u2vxcTQNkn5S"
      }
    },
    {
      "cell_type": "code",
      "execution_count": null,
      "metadata": {
        "colab": {
          "base_uri": "https://localhost:8080/"
        },
        "id": "VvRxAsqjVMUN",
        "outputId": "14e3a70d-e460-4ff0-aeaa-d340b6b699c2"
      },
      "outputs": [
        {
          "output_type": "stream",
          "name": "stdout",
          "text": [
            "HELLO\n"
          ]
        }
      ],
      "source": [
        "# Define the string\n",
        "text = \"hello\"\n",
        "\n",
        "# Convert the string to uppercase\n",
        "uppercase_text = text.upper()\n",
        "\n",
        "# Print the uppercase string\n",
        "print(uppercase_text)\n"
      ]
    },
    {
      "cell_type": "markdown",
      "source": [
        "5. Write a code to replace the word \"apple\" with \"orange\" in the string \"I like apple\"."
      ],
      "metadata": {
        "id": "JcbsoZdNlIO1"
      }
    },
    {
      "cell_type": "code",
      "source": [
        "# Define the string\n",
        "text = \"I like apple\"\n",
        "\n",
        "# Replace \"apple\" with \"orange\"\n",
        "new_text = text.replace(\"apple\", \"orange\")\n",
        "\n",
        "# Print the modified string\n",
        "print(new_text)\n"
      ],
      "metadata": {
        "colab": {
          "base_uri": "https://localhost:8080/"
        },
        "id": "tTibQ6TalGv4",
        "outputId": "d76d83ec-5b94-498d-ba2c-0516905bc412"
      },
      "execution_count": null,
      "outputs": [
        {
          "output_type": "stream",
          "name": "stdout",
          "text": [
            "I like orange\n"
          ]
        }
      ]
    },
    {
      "cell_type": "markdown",
      "source": [
        "6. Write a code to create a list with numbers 1 to 5 and print it."
      ],
      "metadata": {
        "id": "LykJIGXjleDi"
      }
    },
    {
      "cell_type": "code",
      "source": [
        "# Create a list with numbers from 1 to 5\n",
        "numbers = [1, 2, 3, 4, 5]\n",
        "\n",
        "# Print the list\n",
        "print(numbers)\n"
      ],
      "metadata": {
        "colab": {
          "base_uri": "https://localhost:8080/"
        },
        "id": "cFxir3DwlYh2",
        "outputId": "cb479011-86bc-47e3-cb85-cdc73fc569af"
      },
      "execution_count": null,
      "outputs": [
        {
          "output_type": "stream",
          "name": "stdout",
          "text": [
            "[1, 2, 3, 4, 5]\n"
          ]
        }
      ]
    },
    {
      "cell_type": "markdown",
      "source": [
        "7. Write a code to append the number 10 to the list [1, 2, 3, 4]."
      ],
      "metadata": {
        "id": "mK--M6VZlqFe"
      }
    },
    {
      "cell_type": "code",
      "source": [
        "# Define the initial list\n",
        "numbers = [1, 2, 3, 4]\n",
        "\n",
        "# Append the number 10 to the list\n",
        "numbers.append(10)\n",
        "\n",
        "# Print the modified list\n",
        "print(numbers)\n"
      ],
      "metadata": {
        "colab": {
          "base_uri": "https://localhost:8080/"
        },
        "id": "k37h557zlo4u",
        "outputId": "220809ed-cca9-4c9c-fdac-299c8e7e0bc8"
      },
      "execution_count": null,
      "outputs": [
        {
          "output_type": "stream",
          "name": "stdout",
          "text": [
            "[1, 2, 3, 4, 10]\n"
          ]
        }
      ]
    },
    {
      "cell_type": "markdown",
      "source": [
        "8. Write a code to remove the number 3 from the list [1, 2, 3, 4, 5]."
      ],
      "metadata": {
        "id": "s-T2Njjzl8p9"
      }
    },
    {
      "cell_type": "code",
      "source": [
        "# Define the list\n",
        "numbers = [1, 2, 3, 4, 5]\n",
        "\n",
        "# Remove the number 3 from the list\n",
        "numbers.remove(3)\n",
        "\n",
        "# Print the modified list\n",
        "print(numbers)\n"
      ],
      "metadata": {
        "colab": {
          "base_uri": "https://localhost:8080/"
        },
        "id": "M9yECGdSl0bN",
        "outputId": "8a8abce5-2c85-48a7-d5b4-38eb1f21870d"
      },
      "execution_count": null,
      "outputs": [
        {
          "output_type": "stream",
          "name": "stdout",
          "text": [
            "[1, 2, 4, 5]\n"
          ]
        }
      ]
    },
    {
      "cell_type": "markdown",
      "source": [
        "9. Write a code to access the second element in the list ['a', 'b', 'c', 'd'].\n"
      ],
      "metadata": {
        "id": "G4-svsFGmGR8"
      }
    },
    {
      "cell_type": "code",
      "source": [
        "# Define the list\n",
        "letters = ['a', 'b', 'c', 'd']\n",
        "\n",
        "# Access the second element (index 1)\n",
        "second_element = letters[1]\n",
        "\n",
        "# Print the second element\n",
        "print(second_element)\n"
      ],
      "metadata": {
        "colab": {
          "base_uri": "https://localhost:8080/"
        },
        "id": "wLdp52wEmEB8",
        "outputId": "b5a7f71e-67ac-479d-f4b1-ab4ff810e0c7"
      },
      "execution_count": null,
      "outputs": [
        {
          "output_type": "stream",
          "name": "stdout",
          "text": [
            "b\n"
          ]
        }
      ]
    },
    {
      "cell_type": "markdown",
      "source": [
        "10. Write a code to reverse the list [10, 20, 30, 40, 50].\n"
      ],
      "metadata": {
        "id": "BvnRxoHXmWNs"
      }
    },
    {
      "cell_type": "code",
      "source": [
        "# Define the list\n",
        "numbers = [10, 20, 30, 40, 50]\n",
        "\n",
        "# Reverse the list in-place\n",
        "numbers.reverse()\n",
        "\n",
        "# Print the reversed list\n",
        "print(numbers)\n"
      ],
      "metadata": {
        "colab": {
          "base_uri": "https://localhost:8080/"
        },
        "id": "lUJOVEFQmUN8",
        "outputId": "e39a0c44-6ce4-43c9-f224-1feaabe6a3be"
      },
      "execution_count": null,
      "outputs": [
        {
          "output_type": "stream",
          "name": "stdout",
          "text": [
            "[50, 40, 30, 20, 10]\n"
          ]
        }
      ]
    },
    {
      "cell_type": "markdown",
      "source": [
        "11. Write a code to create a tuple with the elements 10, 20, 30 and print it."
      ],
      "metadata": {
        "id": "xnQ4K9Nmmlx7"
      }
    },
    {
      "cell_type": "code",
      "source": [
        "# Create a tuple with the elements 10, 20, 30\n",
        "my_tuple = (10, 20, 30)\n",
        "\n",
        "# Print the tuple\n",
        "print(my_tuple)\n"
      ],
      "metadata": {
        "colab": {
          "base_uri": "https://localhost:8080/"
        },
        "id": "-slpVVXemkOK",
        "outputId": "374c3bc0-5b85-4448-d19b-0433bf0787c8"
      },
      "execution_count": null,
      "outputs": [
        {
          "output_type": "stream",
          "name": "stdout",
          "text": [
            "(10, 20, 30)\n"
          ]
        }
      ]
    },
    {
      "cell_type": "markdown",
      "source": [
        "12. Write a code to access the first element of the tuple ('apple', 'banana', 'cherry')."
      ],
      "metadata": {
        "id": "90d_Ta4smwkf"
      }
    },
    {
      "cell_type": "code",
      "source": [
        "# Define the tuple\n",
        "fruits = ('apple', 'banana', 'cherry')\n",
        "\n",
        "# Access the first element (index 0)\n",
        "first_element = fruits[0]\n",
        "\n",
        "# Print the first element\n",
        "print(first_element)\n"
      ],
      "metadata": {
        "colab": {
          "base_uri": "https://localhost:8080/"
        },
        "id": "o33TaKfwmvPy",
        "outputId": "cef5f4e5-ce6e-4825-8642-73d454e723e6"
      },
      "execution_count": null,
      "outputs": [
        {
          "output_type": "stream",
          "name": "stdout",
          "text": [
            "apple\n"
          ]
        }
      ]
    },
    {
      "cell_type": "markdown",
      "source": [
        "13. Write a code to count how many times the number 2 appears in the tuple (1, 2, 3, 2, 4, 2)."
      ],
      "metadata": {
        "id": "qRrt--_em6zE"
      }
    },
    {
      "cell_type": "code",
      "source": [
        "# Define the tuple\n",
        "my_tuple = (1, 2, 3, 2, 4, 2)\n",
        "\n",
        "# Count how many times the number 2 appears in the tuple\n",
        "count_of_2 = my_tuple.count(2)\n",
        "\n",
        "# Print the result\n",
        "print(count_of_2)\n"
      ],
      "metadata": {
        "colab": {
          "base_uri": "https://localhost:8080/"
        },
        "id": "5nKqBGm7m4_x",
        "outputId": "db26f9d2-3c0e-436e-ef6a-17ae677cb7b2"
      },
      "execution_count": null,
      "outputs": [
        {
          "output_type": "stream",
          "name": "stdout",
          "text": [
            "3\n"
          ]
        }
      ]
    },
    {
      "cell_type": "markdown",
      "source": [
        "14. Write a code to find the index of the element \"cat\" in the tuple ('dog', 'cat', 'rabbit').\n"
      ],
      "metadata": {
        "id": "DQZX5XgdnLCt"
      }
    },
    {
      "cell_type": "code",
      "source": [
        "# Define the tuple\n",
        "my_tuple = ('dog', 'cat', 'rabbit')\n",
        "\n",
        "# Find the index of the element \"cat\"\n",
        "index_of_cat = my_tuple.index('cat')\n",
        "\n",
        "# Print the index\n",
        "print(index_of_cat)\n"
      ],
      "metadata": {
        "colab": {
          "base_uri": "https://localhost:8080/"
        },
        "id": "-WuZngacnDfC",
        "outputId": "e57e04a5-b521-4974-cd91-c5276445a396"
      },
      "execution_count": null,
      "outputs": [
        {
          "output_type": "stream",
          "name": "stdout",
          "text": [
            "1\n"
          ]
        }
      ]
    },
    {
      "cell_type": "markdown",
      "source": [
        "15\n",
        " Write a code to check if the element \"banana\" is in the tuple ('apple', 'orange', 'banana').\n"
      ],
      "metadata": {
        "id": "Fn0XyU-nnZVx"
      }
    },
    {
      "cell_type": "code",
      "source": [
        "# Define the tuple\n",
        "my_tuple = ('apple', 'orange', 'banana')\n",
        "\n",
        "# Check if \"banana\" is in the tuple\n",
        "is_banana_in_tuple = 'banana' in my_tuple\n",
        "\n",
        "# Print the result\n",
        "print(is_banana_in_tuple)\n"
      ],
      "metadata": {
        "colab": {
          "base_uri": "https://localhost:8080/"
        },
        "id": "bw3DGfvPnQxA",
        "outputId": "120b2ef3-29f8-403f-eca7-ab06a284ab8e"
      },
      "execution_count": null,
      "outputs": [
        {
          "output_type": "stream",
          "name": "stdout",
          "text": [
            "True\n"
          ]
        }
      ]
    },
    {
      "cell_type": "markdown",
      "source": [
        "16. Write a code to create a set with the elements 1, 2, 3, 4, 5 and print it.\n"
      ],
      "metadata": {
        "id": "1neIjU1SnjTC"
      }
    },
    {
      "cell_type": "code",
      "source": [
        "# Create a set with the elements 1, 2, 3, 4, 5\n",
        "my_set = {1, 2, 3, 4, 5}\n",
        "\n",
        "# Print the set\n",
        "print(my_set)\n"
      ],
      "metadata": {
        "colab": {
          "base_uri": "https://localhost:8080/"
        },
        "id": "M4whmyZenhSg",
        "outputId": "f9421ffe-2791-4f55-a15c-75a646b64b11"
      },
      "execution_count": null,
      "outputs": [
        {
          "output_type": "stream",
          "name": "stdout",
          "text": [
            "{1, 2, 3, 4, 5}\n"
          ]
        }
      ]
    },
    {
      "cell_type": "markdown",
      "source": [
        "17. . Write a code to add the element 6 to the set {1, 2, 3, 4}."
      ],
      "metadata": {
        "id": "za1pvvkGnvkH"
      }
    },
    {
      "cell_type": "code",
      "source": [
        "# Define the set\n",
        "my_set = {1, 2, 3, 4}\n",
        "\n",
        "# Add the element 6 to the set\n",
        "my_set.add(6)\n",
        "\n",
        "# Print the updated set\n",
        "print(my_set)\n"
      ],
      "metadata": {
        "colab": {
          "base_uri": "https://localhost:8080/"
        },
        "id": "7l871Cv6nt0X",
        "outputId": "9478961e-781e-4f9e-c3a5-37732ee4836c"
      },
      "execution_count": null,
      "outputs": [
        {
          "output_type": "stream",
          "name": "stdout",
          "text": [
            "{1, 2, 3, 4, 6}\n"
          ]
        }
      ]
    },
    {
      "cell_type": "markdown",
      "source": [
        "18. . Write a code to create a tuple with the elements 10, 20, 30 and print it"
      ],
      "metadata": {
        "id": "X-rEMBWVoAL_"
      }
    },
    {
      "cell_type": "code",
      "source": [
        "# Create a tuple with the elements 10, 20, 30\n",
        "my_tuple = (10, 20, 30)\n",
        "\n",
        "# Print the tuple\n",
        "print(my_tuple)\n"
      ],
      "metadata": {
        "colab": {
          "base_uri": "https://localhost:8080/"
        },
        "id": "hwJcgz0mn-mm",
        "outputId": "cba53e3e-b856-4bc0-a772-224078c2b031"
      },
      "execution_count": null,
      "outputs": [
        {
          "output_type": "stream",
          "name": "stdout",
          "text": [
            "(10, 20, 30)\n"
          ]
        }
      ]
    },
    {
      "cell_type": "markdown",
      "source": [
        "19. Write a code to access the first element of the tuple ('apple', 'banana', 'cherry')."
      ],
      "metadata": {
        "id": "gMs1011EoPGS"
      }
    },
    {
      "cell_type": "code",
      "source": [
        "# Define the tuple\n",
        "my_tuple = ('apple', 'banana', 'cherry')\n",
        "\n",
        "# Access the first element (index 0)\n",
        "first_element = my_tuple[0]\n",
        "\n",
        "# Print the first element\n",
        "print(first_element)\n"
      ],
      "metadata": {
        "colab": {
          "base_uri": "https://localhost:8080/"
        },
        "id": "HBD_7AEJoY7l",
        "outputId": "219af84f-0d2f-4749-90ef-36936ea51b32"
      },
      "execution_count": null,
      "outputs": [
        {
          "output_type": "stream",
          "name": "stdout",
          "text": [
            "apple\n"
          ]
        }
      ]
    },
    {
      "cell_type": "markdown",
      "source": [
        "20.  Write a code to count how many times the number 2 appears in the tuple (1, 2, 3, 2, 4, 2)\n"
      ],
      "metadata": {
        "id": "_bc_U6YmogXc"
      }
    },
    {
      "cell_type": "code",
      "source": [
        "# Define the tuple\n",
        "my_tuple = (1, 2, 3, 2, 4, 2)\n",
        "\n",
        "# Count how many times the number 2 appears in the tuple\n",
        "count_of_2 = my_tuple.count(2)\n",
        "\n",
        "# Print the result\n",
        "print(count_of_2)\n"
      ],
      "metadata": {
        "colab": {
          "base_uri": "https://localhost:8080/"
        },
        "id": "V-HlY0C1oaNF",
        "outputId": "24b4f0e5-91ec-48e4-dd07-37df89c3f4cf"
      },
      "execution_count": null,
      "outputs": [
        {
          "output_type": "stream",
          "name": "stdout",
          "text": [
            "3\n"
          ]
        }
      ]
    },
    {
      "cell_type": "markdown",
      "source": [
        "21.  Write a code to find the index of the element \"cat\" in the tuple ('dog', 'cat', 'rabbit')."
      ],
      "metadata": {
        "id": "-IO1W_hToqrA"
      }
    },
    {
      "cell_type": "code",
      "source": [
        "# Define the tuple\n",
        "my_tuple = ('dog', 'cat', 'rabbit')\n",
        "\n",
        "# Find the index of the element \"cat\"\n",
        "index_of_cat = my_tuple.index('cat')\n",
        "\n",
        "# Print the index\n",
        "print(index_of_cat)\n"
      ],
      "metadata": {
        "colab": {
          "base_uri": "https://localhost:8080/"
        },
        "id": "H_KUzWf-omek",
        "outputId": "5b07a65c-a38e-4cb0-eb9c-32b23e0a799e"
      },
      "execution_count": null,
      "outputs": [
        {
          "output_type": "stream",
          "name": "stdout",
          "text": [
            "1\n"
          ]
        }
      ]
    },
    {
      "cell_type": "markdown",
      "source": [
        "22. Write a code to check if the element \"banana\" is in the tuple ('apple', 'orange', 'banana')."
      ],
      "metadata": {
        "id": "Qw256haoo3rY"
      }
    },
    {
      "cell_type": "code",
      "source": [
        "# Define the tuple\n",
        "my_tuple = ('apple', 'orange', 'banana')\n",
        "\n",
        "# Check if \"banana\" is in the tuple\n",
        "is_banana_in_tuple = 'banana' in my_tuple\n",
        "\n",
        "# Print the result\n",
        "print(is_banana_in_tuple)\n"
      ],
      "metadata": {
        "colab": {
          "base_uri": "https://localhost:8080/"
        },
        "id": "W8Tvh-Rzoztk",
        "outputId": "5e95265f-166d-471e-86ee-d071e8fd2bb8"
      },
      "execution_count": null,
      "outputs": [
        {
          "output_type": "stream",
          "name": "stdout",
          "text": [
            "True\n"
          ]
        }
      ]
    },
    {
      "cell_type": "markdown",
      "source": [
        "23. Write a code to create a set with the elements 1, 2, 3, 4, 5 and print it.\n"
      ],
      "metadata": {
        "id": "Ju-oNnjIpCax"
      }
    },
    {
      "cell_type": "code",
      "source": [
        "# Create a set with the elements 1, 2, 3, 4, 5\n",
        "my_set = {1, 2, 3, 4, 5}\n",
        "\n",
        "# Print the set\n",
        "print(my_set)\n"
      ],
      "metadata": {
        "colab": {
          "base_uri": "https://localhost:8080/"
        },
        "id": "Q2aniyKEo99s",
        "outputId": "8573bdcf-9764-48e8-f552-c6328f23e18e"
      },
      "execution_count": null,
      "outputs": [
        {
          "output_type": "stream",
          "name": "stdout",
          "text": [
            "{1, 2, 3, 4, 5}\n"
          ]
        }
      ]
    },
    {
      "cell_type": "markdown",
      "source": [
        "24. Write a code to add the element 6 to the set {1, 2, 3, 4}.\n"
      ],
      "metadata": {
        "id": "bMr78aVfpLdf"
      }
    },
    {
      "cell_type": "code",
      "source": [
        "# Define the set\n",
        "my_set = {1, 2, 3, 4}\n",
        "\n",
        "# Add the element 6 to the set\n",
        "my_set.add(6)\n",
        "\n",
        "# Print the updated set\n",
        "print(my_set)\n"
      ],
      "metadata": {
        "colab": {
          "base_uri": "https://localhost:8080/"
        },
        "id": "QUYcvAOopKNT",
        "outputId": "436ae57f-7292-4aea-f72f-67d9d2ee08d1"
      },
      "execution_count": null,
      "outputs": [
        {
          "output_type": "stream",
          "name": "stdout",
          "text": [
            "{1, 2, 3, 4, 6}\n"
          ]
        }
      ]
    }
  ]
}